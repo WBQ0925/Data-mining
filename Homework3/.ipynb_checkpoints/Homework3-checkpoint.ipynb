{
 "cells": [
  {
   "cell_type": "markdown",
   "id": "cac1eeae",
   "metadata": {},
   "source": [
    "# Homework 3 \n",
    "## 姓名：王宝琪  学号：22210980075"
   ]
  },
  {
   "cell_type": "markdown",
   "id": "5a6710bf",
   "metadata": {},
   "source": [
    "## 1. 读入数据并了解各个自变量的含义"
   ]
  },
  {
   "cell_type": "markdown",
   "id": "eef9f5c0",
   "metadata": {},
   "source": [
    "### 1.1 读入数据 "
   ]
  },
  {
   "cell_type": "code",
   "execution_count": 1,
   "id": "bbec865d",
   "metadata": {},
   "outputs": [],
   "source": [
    "import numpy as np#导入必要的包\n",
    "import pandas as pd\n",
    "import matplotlib.pyplot as plt\n",
    "from sklearn import preprocessing\n",
    "from sklearn.impute import SimpleImputer\n",
    "from sklearn.preprocessing import MinMaxScaler\n",
    "from sklearn.preprocessing import LabelEncoder\n",
    "from sklearn.linear_model import LogisticRegression as LR\n",
    "from sklearn.model_selection import train_test_split\n",
    "from sklearn.metrics import accuracy_score\n",
    "from sklearn import linear_model\n",
    "from sklearn.metrics import roc_curve, auc\n",
    "%matplotlib inline\n",
    "plt.rcParams['font.sans-serif']=['SimHei']#中文正常显示"
   ]
  },
  {
   "cell_type": "code",
   "execution_count": 2,
   "id": "75dd9bb2",
   "metadata": {},
   "outputs": [
    {
     "data": {
      "text/html": [
       "<div>\n",
       "<style scoped>\n",
       "    .dataframe tbody tr th:only-of-type {\n",
       "        vertical-align: middle;\n",
       "    }\n",
       "\n",
       "    .dataframe tbody tr th {\n",
       "        vertical-align: top;\n",
       "    }\n",
       "\n",
       "    .dataframe thead th {\n",
       "        text-align: right;\n",
       "    }\n",
       "</style>\n",
       "<table border=\"1\" class=\"dataframe\">\n",
       "  <thead>\n",
       "    <tr style=\"text-align: right;\">\n",
       "      <th></th>\n",
       "      <th>creded</th>\n",
       "      <th>debitF</th>\n",
       "      <th>meanpay</th>\n",
       "      <th>billnum</th>\n",
       "      <th>debitM</th>\n",
       "      <th>zhongxingM</th>\n",
       "      <th>sidaM</th>\n",
       "      <th>xindaiR</th>\n",
       "      <th>cardnum</th>\n",
       "      <th>xindaiF</th>\n",
       "      <th>...</th>\n",
       "      <th>sidaR</th>\n",
       "      <th>zhongxingF</th>\n",
       "      <th>zhongxingR</th>\n",
       "      <th>xiaofeiF</th>\n",
       "      <th>jinkaF</th>\n",
       "      <th>zhuanzhangM</th>\n",
       "      <th>gongjiaoM</th>\n",
       "      <th>youxiM</th>\n",
       "      <th>xindaiS</th>\n",
       "      <th>black</th>\n",
       "    </tr>\n",
       "  </thead>\n",
       "  <tbody>\n",
       "    <tr>\n",
       "      <th>0</th>\n",
       "      <td>0.02</td>\n",
       "      <td>28.0</td>\n",
       "      <td>474795.0</td>\n",
       "      <td>4.0</td>\n",
       "      <td>784137.54</td>\n",
       "      <td>56826.0</td>\n",
       "      <td>307042.0</td>\n",
       "      <td>365.00</td>\n",
       "      <td>2.0</td>\n",
       "      <td>6.0</td>\n",
       "      <td>...</td>\n",
       "      <td>7.83</td>\n",
       "      <td>4.0</td>\n",
       "      <td>334.38</td>\n",
       "      <td>6.0</td>\n",
       "      <td>9.0</td>\n",
       "      <td>508646.02</td>\n",
       "      <td>297.83</td>\n",
       "      <td>66.02</td>\n",
       "      <td>5760.22</td>\n",
       "      <td>1.0</td>\n",
       "    </tr>\n",
       "    <tr>\n",
       "      <th>1</th>\n",
       "      <td>0.16</td>\n",
       "      <td>2.0</td>\n",
       "      <td>346573.0</td>\n",
       "      <td>32.0</td>\n",
       "      <td>1217.43</td>\n",
       "      <td>43644.0</td>\n",
       "      <td>15096.0</td>\n",
       "      <td>311.73</td>\n",
       "      <td>9.0</td>\n",
       "      <td>0.0</td>\n",
       "      <td>...</td>\n",
       "      <td>91.77</td>\n",
       "      <td>14.0</td>\n",
       "      <td>365.00</td>\n",
       "      <td>1.0</td>\n",
       "      <td>11.0</td>\n",
       "      <td>425876.24</td>\n",
       "      <td>3521.03</td>\n",
       "      <td>22.75</td>\n",
       "      <td>83872.62</td>\n",
       "      <td>1.0</td>\n",
       "    </tr>\n",
       "    <tr>\n",
       "      <th>2</th>\n",
       "      <td>0.32</td>\n",
       "      <td>56.0</td>\n",
       "      <td>168844.0</td>\n",
       "      <td>191.0</td>\n",
       "      <td>95001.76</td>\n",
       "      <td>279217.0</td>\n",
       "      <td>69815.0</td>\n",
       "      <td>42.32</td>\n",
       "      <td>8.0</td>\n",
       "      <td>0.0</td>\n",
       "      <td>...</td>\n",
       "      <td>36.05</td>\n",
       "      <td>10.0</td>\n",
       "      <td>27.08</td>\n",
       "      <td>1.0</td>\n",
       "      <td>2.0</td>\n",
       "      <td>492287.84</td>\n",
       "      <td>467.64</td>\n",
       "      <td>6.66</td>\n",
       "      <td>31110.55</td>\n",
       "      <td>1.0</td>\n",
       "    </tr>\n",
       "    <tr>\n",
       "      <th>3</th>\n",
       "      <td>0.01</td>\n",
       "      <td>28.0</td>\n",
       "      <td>69002.0</td>\n",
       "      <td>89.0</td>\n",
       "      <td>487782.48</td>\n",
       "      <td>273731.0</td>\n",
       "      <td>329437.0</td>\n",
       "      <td>81.60</td>\n",
       "      <td>15.0</td>\n",
       "      <td>1.0</td>\n",
       "      <td>...</td>\n",
       "      <td>10.08</td>\n",
       "      <td>8.0</td>\n",
       "      <td>191.04</td>\n",
       "      <td>1.0</td>\n",
       "      <td>8.0</td>\n",
       "      <td>240067.26</td>\n",
       "      <td>288.67</td>\n",
       "      <td>119.98</td>\n",
       "      <td>7876.13</td>\n",
       "      <td>1.0</td>\n",
       "    </tr>\n",
       "    <tr>\n",
       "      <th>4</th>\n",
       "      <td>0.19</td>\n",
       "      <td>6.0</td>\n",
       "      <td>408647.0</td>\n",
       "      <td>104.0</td>\n",
       "      <td>22039.56</td>\n",
       "      <td>13529.0</td>\n",
       "      <td>24725.0</td>\n",
       "      <td>254.60</td>\n",
       "      <td>17.0</td>\n",
       "      <td>9.0</td>\n",
       "      <td>...</td>\n",
       "      <td>324.21</td>\n",
       "      <td>23.0</td>\n",
       "      <td>248.39</td>\n",
       "      <td>7.0</td>\n",
       "      <td>0.0</td>\n",
       "      <td>455464.47</td>\n",
       "      <td>11834.25</td>\n",
       "      <td>28.97</td>\n",
       "      <td>13765.38</td>\n",
       "      <td>0.0</td>\n",
       "    </tr>\n",
       "  </tbody>\n",
       "</table>\n",
       "<p>5 rows × 27 columns</p>\n",
       "</div>"
      ],
      "text/plain": [
       "   creded  debitF   meanpay  billnum     debitM  zhongxingM     sidaM  \\\n",
       "0    0.02    28.0  474795.0      4.0  784137.54     56826.0  307042.0   \n",
       "1    0.16     2.0  346573.0     32.0    1217.43     43644.0   15096.0   \n",
       "2    0.32    56.0  168844.0    191.0   95001.76    279217.0   69815.0   \n",
       "3    0.01    28.0   69002.0     89.0  487782.48    273731.0  329437.0   \n",
       "4    0.19     6.0  408647.0    104.0   22039.56     13529.0   24725.0   \n",
       "\n",
       "   xindaiR  cardnum  xindaiF  ...   sidaR  zhongxingF  zhongxingR  xiaofeiF  \\\n",
       "0   365.00      2.0      6.0  ...    7.83         4.0      334.38       6.0   \n",
       "1   311.73      9.0      0.0  ...   91.77        14.0      365.00       1.0   \n",
       "2    42.32      8.0      0.0  ...   36.05        10.0       27.08       1.0   \n",
       "3    81.60     15.0      1.0  ...   10.08         8.0      191.04       1.0   \n",
       "4   254.60     17.0      9.0  ...  324.21        23.0      248.39       7.0   \n",
       "\n",
       "   jinkaF  zhuanzhangM  gongjiaoM  youxiM   xindaiS  black  \n",
       "0     9.0    508646.02     297.83   66.02   5760.22    1.0  \n",
       "1    11.0    425876.24    3521.03   22.75  83872.62    1.0  \n",
       "2     2.0    492287.84     467.64    6.66  31110.55    1.0  \n",
       "3     8.0    240067.26     288.67  119.98   7876.13    1.0  \n",
       "4     0.0    455464.47   11834.25   28.97  13765.38    0.0  \n",
       "\n",
       "[5 rows x 27 columns]"
      ]
     },
     "execution_count": 2,
     "metadata": {},
     "output_type": "execute_result"
    }
   ],
   "source": [
    "data=pd.read_csv(\"simudata.csv\",dtype='float64')\n",
    "data.head()#导入数据并查看前五行"
   ]
  },
  {
   "cell_type": "code",
   "execution_count": 3,
   "id": "79d3c5b1",
   "metadata": {},
   "outputs": [
    {
     "name": "stdout",
     "output_type": "stream",
     "text": [
      "定量变量有： 26 个\n",
      "定量变量为： ['creded', 'debitF', 'meanpay', 'billnum', 'debitM', 'zhongxingM', 'sidaM', 'xindaiR', 'cardnum', 'xindaiF', 'maxpay', 'zhuanzhangF', 'gongjiaoF', 'zhuanzhangR', 'age', 'gongjiaoR', 'sidaF', 'sidaR', 'zhongxingF', 'zhongxingR', 'xiaofeiF', 'jinkaF', 'zhuanzhangM', 'gongjiaoM', 'youxiM', 'xindaiS']\n",
      "定量变量特征描述为：             creded       debitF       meanpay      billnum        debitM  \\\n",
      "count  8032.000000  8032.000000  8.032000e+03  8032.000000  8.032000e+03   \n",
      "mean      0.144796    35.455802  2.717996e+05    74.471489  3.050731e+05   \n",
      "std       0.143946    35.141984  2.352257e+05    71.310466  2.597760e+05   \n",
      "min       0.000000     0.000000  0.000000e+00     0.000000  2.600000e+01   \n",
      "25%       0.020000     5.000000  5.047525e+04    11.000000  5.930946e+04   \n",
      "50%       0.100000    25.000000  2.312770e+05    55.000000  2.648380e+05   \n",
      "75%       0.240000    57.000000  4.253420e+05   119.000000  4.796458e+05   \n",
      "max       0.820000   202.000000  1.346594e+06   427.000000  1.436086e+06   \n",
      "\n",
      "         zhongxingM         sidaM      xindaiR      cardnum      xindaiF  ...  \\\n",
      "count  8.032000e+03  8.032000e+03  8032.000000  8032.000000  8032.000000  ...   \n",
      "mean   1.617706e+05  2.715348e+05   163.339720     6.394796     4.159985  ...   \n",
      "std    1.714516e+05  2.460283e+05   104.671216     4.379306     3.633870  ...   \n",
      "min    3.000000e+00  1.000000e+01     0.020000     0.000000     0.000000  ...   \n",
      "25%    2.161650e+04  4.469200e+04    70.175000     3.000000     1.000000  ...   \n",
      "50%    9.791300e+04  2.197690e+05   155.520000     6.000000     4.000000  ...   \n",
      "75%    2.610935e+05  4.338408e+05   241.020000     9.000000     7.000000  ...   \n",
      "max    1.017770e+06  1.299826e+06   365.000000    26.000000    20.000000  ...   \n",
      "\n",
      "             sidaF        sidaR   zhongxingF   zhongxingR     xiaofeiF  \\\n",
      "count  8032.000000  8032.000000  8032.000000  8032.000000  8032.000000   \n",
      "mean     25.263446   148.532261     7.812251   237.543242     2.578312   \n",
      "std      25.356962    99.256973     8.336176   106.227388     3.035972   \n",
      "min       0.000000     0.160000     0.000000     0.170000     0.000000   \n",
      "25%       4.000000    57.222500     1.000000   157.150000     0.000000   \n",
      "50%      17.000000   136.135000     5.000000   251.330000     1.000000   \n",
      "75%      42.000000   219.947500    13.000000   340.050000     4.000000   \n",
      "max     144.000000   365.000000    53.000000   365.000000    19.000000   \n",
      "\n",
      "            jinkaF   zhuanzhangM     gongjiaoM       youxiM        xindaiS  \n",
      "count  8032.000000  8.032000e+03   8032.000000  8032.000000    8032.000000  \n",
      "mean      6.101469  3.046979e+05   6079.254307   209.638073  106103.725818  \n",
      "std       7.047664  2.963735e+05   7530.265840   260.277361   94056.103030  \n",
      "min       0.000000  3.821000e+01      0.020000     0.000000       8.050000  \n",
      "25%       1.000000  4.583786e+04    804.827500    28.047500   18240.015000  \n",
      "50%       3.000000  2.145178e+05   2245.550000    75.050000   87971.440000  \n",
      "75%      10.000000  4.963003e+05   9483.372500   329.990000  165942.247500  \n",
      "max      44.000000  1.650050e+06  55745.070000  1939.000000  485178.350000  \n",
      "\n",
      "[8 rows x 26 columns]\n"
     ]
    }
   ],
   "source": [
    "#定量变量\n",
    "quantvars=list(data.loc[:,data.columns != 'black'].columns)\n",
    "print('定量变量有：', len(quantvars),'个')\n",
    "print('定量变量为：',quantvars)\n",
    "print('定量变量特征描述为：', data.loc[:,data.columns != 'black'].astype('float').describe())"
   ]
  },
  {
   "cell_type": "markdown",
   "id": "0b34d38b",
   "metadata": {},
   "source": [
    "### 1.2 检查缺失值和重复值"
   ]
  },
  {
   "cell_type": "code",
   "execution_count": 4,
   "id": "552ec15c",
   "metadata": {},
   "outputs": [
    {
     "name": "stdout",
     "output_type": "stream",
     "text": [
      "<class 'pandas.core.frame.DataFrame'>\n",
      "RangeIndex: 8032 entries, 0 to 8031\n",
      "Data columns (total 27 columns):\n",
      " #   Column       Non-Null Count  Dtype  \n",
      "---  ------       --------------  -----  \n",
      " 0   creded       8032 non-null   float64\n",
      " 1   debitF       8032 non-null   float64\n",
      " 2   meanpay      8032 non-null   float64\n",
      " 3   billnum      8032 non-null   float64\n",
      " 4   debitM       8032 non-null   float64\n",
      " 5   zhongxingM   8032 non-null   float64\n",
      " 6   sidaM        8032 non-null   float64\n",
      " 7   xindaiR      8032 non-null   float64\n",
      " 8   cardnum      8032 non-null   float64\n",
      " 9   xindaiF      8032 non-null   float64\n",
      " 10  maxpay       8032 non-null   float64\n",
      " 11  zhuanzhangF  8032 non-null   float64\n",
      " 12  gongjiaoF    8032 non-null   float64\n",
      " 13  zhuanzhangR  8032 non-null   float64\n",
      " 14  age          8032 non-null   float64\n",
      " 15  gongjiaoR    8032 non-null   float64\n",
      " 16  sidaF        8032 non-null   float64\n",
      " 17  sidaR        8032 non-null   float64\n",
      " 18  zhongxingF   8032 non-null   float64\n",
      " 19  zhongxingR   8032 non-null   float64\n",
      " 20  xiaofeiF     8032 non-null   float64\n",
      " 21  jinkaF       8032 non-null   float64\n",
      " 22  zhuanzhangM  8032 non-null   float64\n",
      " 23  gongjiaoM    8032 non-null   float64\n",
      " 24  youxiM       8032 non-null   float64\n",
      " 25  xindaiS      8032 non-null   float64\n",
      " 26  black        8032 non-null   float64\n",
      "dtypes: float64(27)\n",
      "memory usage: 1.7 MB\n"
     ]
    }
   ],
   "source": [
    "data.info()#检查缺失值，结果无缺失值"
   ]
  },
  {
   "cell_type": "code",
   "execution_count": 5,
   "id": "4aff1b6f",
   "metadata": {},
   "outputs": [
    {
     "data": {
      "text/plain": [
       "0       False\n",
       "1       False\n",
       "2       False\n",
       "3       False\n",
       "4       False\n",
       "        ...  \n",
       "8027    False\n",
       "8028    False\n",
       "8029    False\n",
       "8030    False\n",
       "8031    False\n",
       "Length: 8032, dtype: bool"
      ]
     },
     "execution_count": 5,
     "metadata": {},
     "output_type": "execute_result"
    }
   ],
   "source": [
    "data.duplicated()#无重复值"
   ]
  },
  {
   "cell_type": "markdown",
   "id": "d5f57c91",
   "metadata": {},
   "source": [
    "## 2. 对变量交易笔数和所有用户行为均值分别绘制违约组和非违约组的对比箱线图，并分析是否违约与这些变量之间的关系，给出解读"
   ]
  },
  {
   "cell_type": "markdown",
   "id": "176fdeca",
   "metadata": {},
   "source": [
    "### 2.1 交易笔数违约情况箱线图"
   ]
  },
  {
   "cell_type": "code",
   "execution_count": 6,
   "id": "195ec3bb",
   "metadata": {},
   "outputs": [
    {
     "data": {
      "image/png": "[encoded data removed]",
      "text/plain": [
       "<Figure size 936x288 with 1 Axes>"
      ]
     },
     "metadata": {
      "needs_background": "light"
     },
     "output_type": "display_data"
    }
   ],
   "source": [
    "#进行分组，将违约与不违约的交易笔数分开\n",
    "billnum_1=np.array(data[\"billnum\"])[np.where(data[\"black\"]==1)]\n",
    "billnum_0=np.array(data[\"billnum\"])[np.where(data[\"black\"]==0)]\n",
    "plt.figure(figsize=(13,4))\n",
    "plt.subplot(121)\n",
    "labels = ['违约','没有违约']\n",
    "plt.boxplot([billnum_1,billnum_0],labels=labels)\n",
    "plt.title(\"交易笔数与违约情况箱线图\",fontsize='large')\n",
    "plt.xlabel('违约情况',fontsize='medium')\n",
    "plt.ylabel('交易笔数',fontsize='medium')\n",
    "plt.show()"
   ]
  },
  {
   "cell_type": "markdown",
   "id": "367dea04",
   "metadata": {},
   "source": [
    "交易笔数的违约对比箱线图如上图所示。可以看到，没有违约的交易笔数的总体水平高于违约组。未违约组的交易笔数的中位数更高，交易笔数的最高值也更高。可能的原因商家更喜欢和信用良好，不违约的人做交易。"
   ]
  },
  {
   "cell_type": "markdown",
   "id": "aa264495",
   "metadata": {},
   "source": [
    "### 2.2 所有用户行为均值情况箱线图"
   ]
  },
  {
   "cell_type": "code",
   "execution_count": 7,
   "id": "41caadaf",
   "metadata": {},
   "outputs": [
    {
     "data": {
      "image/png": "[encoded data removed]",
      "text/plain": [
       "<Figure size 936x288 with 1 Axes>"
      ]
     },
     "metadata": {
      "needs_background": "light"
     },
     "output_type": "display_data"
    }
   ],
   "source": [
    "#进行分组，将违约与不违约的交易笔数分开\n",
    "meanpay_1=np.array(data[\"meanpay\"])[np.where(data[\"black\"]==1)]\n",
    "meanpay_0=np.array(data[\"meanpay\"])[np.where(data[\"black\"]==0)]\n",
    "plt.figure(figsize=(13,4))\n",
    "plt.subplot(121)\n",
    "labels = ['违约','没有违约']\n",
    "plt.boxplot([meanpay_1,meanpay_0],labels=labels)\n",
    "plt.title(\"所有用户行为均值与违约情况箱线图\",fontsize='large')\n",
    "plt.xlabel('违约情况',fontsize='medium')\n",
    "plt.ylabel('所有用户行为均值',fontsize='medium')\n",
    "plt.show()"
   ]
  },
  {
   "cell_type": "markdown",
   "id": "d3005992",
   "metadata": {},
   "source": [
    "所有用户行为均值与违约情况箱线图如上所示。没有违约组的行为均值的中位数高于违约组，未违约的用户行为均值总体水平明显高于违约组，所以未违约用户的总体消费金额更高。违约组可能因为经济有压力，因此行为均值没有那么高。"
   ]
  },
  {
   "cell_type": "markdown",
   "id": "616d7d87",
   "metadata": {},
   "source": [
    "## 3. 建立逻辑回归模型并进行分析"
   ]
  },
  {
   "cell_type": "markdown",
   "id": "b34030cf",
   "metadata": {},
   "source": [
    "### 3.1 数据预处理——归一化"
   ]
  },
  {
   "cell_type": "code",
   "execution_count": 8,
   "id": "2df56f5a",
   "metadata": {},
   "outputs": [],
   "source": [
    "data[quantvars] = MinMaxScaler().fit_transform(data[quantvars])"
   ]
  },
  {
   "cell_type": "markdown",
   "id": "33692861",
   "metadata": {},
   "source": [
    "### 3.2 提取标签，将属性与分类标签分开"
   ]
  },
  {
   "cell_type": "code",
   "execution_count": 9,
   "id": "f51c3084",
   "metadata": {},
   "outputs": [],
   "source": [
    "#提取属性列与标签列的值，并将其分开\n",
    "x_features=np.array(data.loc[:, data.columns!='black'].astype('float'))\n",
    "y_labels=np.array(data.loc[:, data.columns=='black'].astype('float')).flatten()\n",
    "positive_index=np.where(y_labels==1)#得到正标签的索引值\n",
    "negative_index=np.where(y_labels==0)#得到负标签的索引值"
   ]
  },
  {
   "cell_type": "markdown",
   "id": "ccd21287",
   "metadata": {},
   "source": [
    "### 3.3 判断建模所需参数"
   ]
  },
  {
   "cell_type": "code",
   "execution_count": 10,
   "id": "6561986c",
   "metadata": {},
   "outputs": [
    {
     "data": {
      "image/png": "[encoded data removed]",
      "text/plain": [
       "<Figure size 432x432 with 1 Axes>"
      ]
     },
     "metadata": {
      "needs_background": "light"
     },
     "output_type": "display_data"
    }
   ],
   "source": [
    "# 判断使用L1正则还是L2正则\n",
    "l1 = []\n",
    "l2 = []\n",
    "l1test = []\n",
    "l2test = []\n",
    "\n",
    "Xtrain, Xtest, Ytrain, Ytest = train_test_split(x_features,y_labels,test_size=0.3,random_state=123)#划分训练集，测试集\n",
    "\n",
    "for i in np.linspace(0.05,1,19):\n",
    "\n",
    "    lrl1 = LR(penalty=\"l1\",solver=\"liblinear\",C=i,max_iter=1000)\n",
    "    lrl2 = LR(penalty=\"l2\",solver=\"liblinear\",C=i,max_iter=1000)\n",
    "\n",
    "    lrl1 = lrl1.fit(Xtrain,Ytrain)\n",
    "    l1.append(accuracy_score(lrl1.predict(Xtrain),Ytrain))\n",
    "    l1test.append(accuracy_score(lrl1.predict(Xtest),Ytest))\n",
    "\n",
    "    lrl2 = lrl2.fit(Xtrain,Ytrain)\n",
    "    l2.append(accuracy_score(lrl2.predict(Xtrain),Ytrain))\n",
    "    l2test.append(accuracy_score(lrl2.predict(Xtest),Ytest))\n",
    "\n",
    "graph = [l1,l2,l1test,l2test]\n",
    "color = [\"red\",\"gray\",\"yellow\",\"black\"]\n",
    "label = [\"L1\",\"L2\",\"L1test\",\"L2test\"]\n",
    "\n",
    "plt.figure(figsize=(6, 6))\n",
    "for i in range(len(graph)):\n",
    "    plt.plot(np.linspace(0.05,1,19),graph[i],color[i],label=label[i])\n",
    "plt.legend(loc=4)\n",
    "plt.show()"
   ]
  },
  {
   "cell_type": "markdown",
   "id": "8c4ab058",
   "metadata": {},
   "source": [
    "可见选择L1正则化，正则化强度倒数C为0.7时模型在训练集和测试集上的准确率较高，且基本没有过拟合和欠拟合现象，由此进行建模"
   ]
  },
  {
   "cell_type": "markdown",
   "id": "3ebfe37b",
   "metadata": {},
   "source": [
    "### 3.4 进行逻辑回归建模"
   ]
  },
  {
   "cell_type": "code",
   "execution_count": 11,
   "id": "e84e0148",
   "metadata": {},
   "outputs": [
    {
     "name": "stdout",
     "output_type": "stream",
     "text": [
      "模型准确度： 0.7641932270916335\n",
      "模型系数：\n",
      " [[-3.22652241 -2.29079103 -3.04624561 -1.69565724 -0.7508241  -0.42456343\n",
      "  -1.36717825  1.92959871  2.89301425  2.31309056  2.173111    2.08719898\n",
      "   1.5595663   1.60331422  2.11835129  0.83633239  0.65439935  0.22822227\n",
      "   0.5900257   0.29847892  0.71822056  0.55152154 -0.43720896  0.75997707\n",
      "   0.5043265   0.35025466]]\n",
      "模型参数有： [26] 个\n",
      "对结果影响最大的正参数为: cardnum\n",
      "对结果影响最大的负参数为: creded\n",
      "对结果影响最大的正参数的系数为: 2.8930142459102317\n",
      "对结果影响最大的负参数的系数为: -3.226522412262955\n"
     ]
    }
   ],
   "source": [
    "# 训练模型\n",
    "lrl1 = LR(penalty=\"l1\",solver=\"liblinear\",C=0.7,max_iter=1000)\n",
    "lrl1 = lrl1.fit(x_features,y_labels)\n",
    "print('模型准确度：',accuracy_score(lrl1.predict(x_features),y_labels))\n",
    "print('模型系数：\\n',lrl1.coef_)\n",
    "print('模型参数有：',(lrl1.coef_ != 0).sum(axis=1),'个')\n",
    "\n",
    "# 找出系数最大的参数（即为对结果影响最大的参数）\n",
    "print('对结果影响最大的正参数为:',data.columns[lrl1.coef_.argmax()])\n",
    "print('对结果影响最大的负参数为:',data.columns[lrl1.coef_.argmin()])\n",
    "print('对结果影响最大的正参数的系数为:',lrl1.coef_.flatten()[lrl1.coef_.argmax()])\n",
    "print('对结果影响最大的负参数的系数为:',lrl1.coef_.flatten()[lrl1.coef_.argmin()])"
   ]
  },
  {
   "cell_type": "code",
   "execution_count": 12,
   "id": "0348d896",
   "metadata": {},
   "outputs": [
    {
     "name": "stdout",
     "output_type": "stream",
     "text": [
      "模型所有参数：\n"
     ]
    },
    {
     "data": {
      "text/plain": [
       "[('creded', -3.226522412262955),\n",
       " ('debitF', -2.2907910346149416),\n",
       " ('meanpay', -3.046245607339625),\n",
       " ('billnum', -1.6956572401670356),\n",
       " ('debitM', -0.7508240991105785),\n",
       " ('zhongxingM', -0.42456343139515385),\n",
       " ('sidaM', -1.3671782464052984),\n",
       " ('xindaiR', 1.9295987086700563),\n",
       " ('cardnum', 2.8930142459102317),\n",
       " ('xindaiF', 2.313090564773799),\n",
       " ('maxpay', 2.1731109999208478),\n",
       " ('zhuanzhangF', 2.0871989795002883),\n",
       " ('gongjiaoF', 1.5595663002061773),\n",
       " ('zhuanzhangR', 1.6033142216184113),\n",
       " ('age', 2.1183512939919678),\n",
       " ('gongjiaoR', 0.8363323907168472),\n",
       " ('sidaF', 0.6543993482384936),\n",
       " ('sidaR', 0.22822226729467116),\n",
       " ('zhongxingF', 0.5900257044713115),\n",
       " ('zhongxingR', 0.29847891719384306),\n",
       " ('xiaofeiF', 0.7182205577782707),\n",
       " ('jinkaF', 0.5515215437927767),\n",
       " ('zhuanzhangM', -0.43720896048265034),\n",
       " ('gongjiaoM', 0.7599770690236941),\n",
       " ('youxiM', 0.504326500426763),\n",
       " ('xindaiS', 0.35025466066651484)]"
      ]
     },
     "execution_count": 12,
     "metadata": {},
     "output_type": "execute_result"
    }
   ],
   "source": [
    "print('模型所有参数：')\n",
    "[*zip(data.columns[:-1],lrl1.coef_.flatten().tolist())]"
   ]
  },
  {
   "cell_type": "markdown",
   "id": "7a454e7f",
   "metadata": {},
   "source": [
    "  逻辑回归建模后得到的所有分类属性对应的参数如上所示。其中属性：'creded','debitF','meanpay','billnum','debitM','zhongxingM','sidaM','zhuanzhangM'的回归参数值为负值。说明这些变量对“不违约”，也即'black'=0起到解释作用，即上述七个变量的取值越大，越有可能不违约。借贷比率的系数的值最小，说明借贷比率对不违约的影响最大。借贷比率高，最不可能违约；其余各属性的参数取值为正，说明其对\"违约\"起到解释作用，即其余变量的取值越大，越有可能违约。其中银行卡数的系数值最大，因此其余条件相同的情况下，银行卡数多的人，违约的可能性最高。"
   ]
  },
  {
   "cell_type": "markdown",
   "id": "9897c269",
   "metadata": {},
   "source": [
    "## 4. 根据模型对样本进行预测，计算AUC值，绘制ROC曲线"
   ]
  },
  {
   "cell_type": "code",
   "execution_count": 13,
   "id": "0458556b",
   "metadata": {},
   "outputs": [
    {
     "name": "stdout",
     "output_type": "stream",
     "text": [
      "AUC: 0.8274504718559668\n"
     ]
    },
    {
     "data": {
      "image/png": "[encoded data removed]",
      "text/plain": [
       "<Figure size 360x360 with 1 Axes>"
      ]
     },
     "metadata": {
      "needs_background": "light"
     },
     "output_type": "display_data"
    }
   ],
   "source": [
    "# 使用decision_function()函数\n",
    "y_score = lrl1.decision_function(x_features)\n",
    "\n",
    "# 计算FP和TP\n",
    "false_positive_ratio,true_positive_ratio,threshold = roc_curve(y_labels, y_score)\n",
    "\n",
    "# 计算AUC\n",
    "AUC_value = auc(false_positive_ratio,true_positive_ratio)\n",
    "print('AUC:',AUC_value)\n",
    "\n",
    "# 绘制ROC曲线\n",
    "lw = 2\n",
    "plt.figure(figsize=(5,5))\n",
    "plt.plot(false_positive_ratio, true_positive_ratio, color='deepskyblue',\n",
    "         lw=lw, label='ROC curve (area = %0.2f)' % AUC_value)\n",
    "plt.plot([0, 1], [0, 1], color='lightpink', lw=lw, linestyle='--')\n",
    "plt.xlim([0.0, 1.0])\n",
    "plt.ylim([0.0, 1.0])\n",
    "plt.xlabel('FPR',fontsize='large')\n",
    "plt.ylabel('TPR',fontsize='large')\n",
    "plt.title('ROC曲线',fontsize='large')\n",
    "plt.legend(loc=\"best\")\n",
    "plt.show()"
   ]
  },
  {
   "cell_type": "markdown",
   "id": "438cdef4",
   "metadata": {},
   "source": [
    "ROC曲线及AUC如上图所示。ROC曲线左凸比较明显，模型预测效果较好，AUC面积达到0.83，说明模型预测准确度比较高。可见上面建模得到的回归系数的值基本能够很好地解释因变量，其中系数为正的变量解释违约，系数为负的变量解释不违约。"
   ]
  },
  {
   "cell_type": "markdown",
   "id": "ba1503ed",
   "metadata": {},
   "source": [
    "## 5. 针对预测出的非违约概率，按照非违约率从高到低排序，将全部样本分为 5 组人群：非违约率最高的 20%用户、…、非违约率最低的20%用户，计算五类人群的平均非违约概率，从高到低排序，绘制柱状图；对结果的商业应用进行解读"
   ]
  },
  {
   "cell_type": "code",
   "execution_count": 15,
   "id": "a57fb9e2",
   "metadata": {},
   "outputs": [],
   "source": [
    "#计算预测的非违约概率和违约概率\n",
    "predict_probability=lrl1.predict_proba(x_features)\n",
    "# 将结果生成DataFrame\n",
    "data_probability = pd.DataFrame(predict_probability,columns=['非违约概率','违约概率'])\n",
    "\n",
    "# 对非违约概率进行等频分组，每组样本数量相同\n",
    "data_probability[\"非违约分组\"] = pd.qcut(data_probability[\"非违约概率\"],5,labels=['非违约第5组','非违约第4组','非违约第3组','非违约第2组','非违约第1组'])"
   ]
  },
  {
   "cell_type": "code",
   "execution_count": 16,
   "id": "e75330a4",
   "metadata": {},
   "outputs": [
    {
     "data": {
      "text/plain": [
       "[0.9521289538342252,\n",
       " 0.8567038364073378,\n",
       " 0.7237109783229386,\n",
       " 0.5406137708662777,\n",
       " 0.25765911140050085]"
      ]
     },
     "execution_count": 16,
     "metadata": {},
     "output_type": "execute_result"
    }
   ],
   "source": [
    "#求5组人群的平均非违约概率\n",
    "avg_probability = []\n",
    "for i in range(1,6):\n",
    "    a = np.array(data_probability[\"非违约概率\"])[np.where(data_probability[\"非违约分组\"] == '非违约第%d组' % i)].mean()\n",
    "    avg_probability.append(a)\n",
    "avg_probability"
   ]
  },
  {
   "cell_type": "code",
   "execution_count": 18,
   "id": "d81cf807",
   "metadata": {},
   "outputs": [
    {
     "data": {
      "image/png": "[encoded data removed]",
      "text/plain": [
       "<Figure size 1080x360 with 1 Axes>"
      ]
     },
     "metadata": {
      "needs_background": "light"
     },
     "output_type": "display_data"
    }
   ],
   "source": [
    "# 绘制柱状图\n",
    "plt.figure(figsize=(15, 5))\n",
    "plt.subplot(121)\n",
    "x = ['非违约第5组','非违约第4组','非违约第3组','非违约第2组','非违约第1组'][::-1]\n",
    "y = avg_probability\n",
    "plt.bar(x,y,width=0.5, color=['c','r','y','b','g'])\n",
    "plt.title(\"五组人群的平均非违约概率\",fontsize='large')\n",
    "plt.xlabel('按非违约率从高到底排序的五组人群',fontsize='medium')\n",
    "plt.ylabel('平均非违约概率',fontsize='medium')\n",
    "plt.show()"
   ]
  },
  {
   "cell_type": "markdown",
   "id": "01781c9e",
   "metadata": {},
   "source": [
    "根据模型预测得到的结果，按非违约率从高到低排序得到五组，其平均非违约率分别为：95.2%,85.7%,72.4%,54.1%,25.8%。前面四组通过模型预测得到的平均非违约率高于50%，所以会被预测为不违约，最后一组会被预测为违约。综上，经过模型预测后，相关金融企业或基金，证券等理财产品在针对第五组人群时要格外关注，因为其违约的可能性比较大。"
   ]
  }
 ],
 "metadata": {
  "kernelspec": {
   "display_name": "Python 3 (ipykernel)",
   "language": "python",
   "name": "python3"
  },
  "language_info": {
   "codemirror_mode": {
    "name": "ipython",
    "version": 3
   },
   "file_extension": ".py",
   "mimetype": "text/x-python",
   "name": "python",
   "nbconvert_exporter": "python",
   "pygments_lexer": "ipython3",
   "version": "3.9.12"
  }
 },
 "nbformat": 4,
 "nbformat_minor": 5
}
