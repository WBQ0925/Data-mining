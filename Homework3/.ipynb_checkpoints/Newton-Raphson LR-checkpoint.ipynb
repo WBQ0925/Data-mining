{
 "cells": [
  {
   "cell_type": "markdown",
   "id": "6f2f65de",
   "metadata": {},
   "source": [
    "# 利用Newton-Raphson算法实现逻辑回归\n",
    "## 姓名：王宝琪 学号：22210980075"
   ]
  },
  {
   "cell_type": "code",
   "execution_count": 1,
   "id": "a092dab3",
   "metadata": {},
   "outputs": [],
   "source": [
    "import numpy as np#导包\n",
    "import pandas as pd\n",
    "import matplotlib.pyplot as plt\n",
    "%matplotlib inline\n",
    "plt.rcParams['font.sans-serif']=['SimHei']#中文正常显示\n",
    "plt.rcParams['axes.unicode_minus'] =False#负号正常显示"
   ]
  },
  {
   "cell_type": "code",
   "execution_count": 2,
   "id": "25df0d5b",
   "metadata": {},
   "outputs": [
    {
     "data": {
      "image/png": "[encoded data removed]",
      "text/plain": [
       "<Figure size 720x576 with 4 Axes>"
      ]
     },
     "metadata": {
      "needs_background": "light"
     },
     "output_type": "display_data"
    }
   ],
   "source": [
    "def sigmoid(z):#定义sigmoid函数\n",
    "    return 1 / (1 + np.exp(-z))\n",
    "\n",
    "def log_likelihood(y, x, b):#定义对数似然函数\n",
    "    p = sigmoid(x @ b)\n",
    "    return np.sum(y * np.log(p) + (1-y) * np.log(1-p))\n",
    "\n",
    "def logistic_regression(x, y, r=200):#定义逻辑回归参数迭代函数\n",
    "    n, p = x.shape\n",
    "    beta_hat = np.zeros((p, 1))\n",
    "    \n",
    "    ll_old = log_likelihood(y, x, beta_hat)\n",
    "    for i in range(r):\n",
    "        p = sigmoid(x @ beta_hat)\n",
    "        W = np.diagflat(p * (1 - p))\n",
    "        z = x @ beta_hat + np.linalg.solve(W, y - p)\n",
    "        beta_new = beta_hat + np.linalg.inv(x.T @ W @ x) @ x.T @ W @ z\n",
    "        ll_new = log_likelihood(y, x, beta_new)\n",
    "        \n",
    "        if np.abs(ll_new - ll_old) < 1e-5:\n",
    "            break\n",
    "        \n",
    "        beta_hat = beta_new\n",
    "        ll_old = ll_new\n",
    "    \n",
    "    return beta_hat\n",
    "\n",
    "np.random.seed(123)#设置随机数种子为123\n",
    "\n",
    "N_list = [200, 500, 750, 1000]\n",
    "R = 200\n",
    "beta_true = np.array([[-0.5], [0.5], [-1], [1]])\n",
    "boxplot_data = []\n",
    "\n",
    "for N in N_list:\n",
    "    x = np.hstack((np.ones((N, 1)), np.random.normal(size=(N, 3))))\n",
    "    y = np.random.binomial(n=1, p=sigmoid(x @ beta_true))\n",
    "    beta_diff = np.zeros((R, 4))\n",
    "    \n",
    "    for r in range(R):\n",
    "        np.random.seed(r+1)\n",
    "        x_r = np.hstack((np.ones((N, 1)), np.random.normal(size=(N, 3))))\n",
    "        y_r = np.random.binomial(n=1, p=sigmoid(x_r @ beta_true))\n",
    "        beta_hat = logistic_regression(x_r, y_r)\n",
    "        beta_diff[r] = np.squeeze(beta_hat) - beta_true.reshape(4)\n",
    "        \n",
    "    boxplot_data.append(beta_diff)\n",
    "\n",
    "fig, axs = plt.subplots(2, 2, figsize=(10, 8))#绘制箱线图\n",
    "axs = axs.flatten()\n",
    "\n",
    "for i, data in enumerate(boxplot_data):\n",
    "    axs[i].boxplot(data)\n",
    "    axs[i].grid(True)\n",
    "    axs[i].set_xticklabels(['beta1', 'beta2', 'beta3', 'beta4'])\n",
    "    axs[i].set_title('N={}'.format(N_list[i]))\n",
    "\n",
    "plt.tight_layout()\n",
    "plt.show()"
   ]
  },
  {
   "cell_type": "markdown",
   "id": "a52a7108",
   "metadata": {},
   "source": [
    "根据题意，得到的样本量为200，500，750，1000时，四个维度beta的估计值与真实值的差的箱线图如上所示。可以看到，随着样本量增加，beta1,beta2,beta3,beta4的估计值均更接近于真实值。1000个样本比200个样本的估计水平有明显提高，参数的差的中位数与总体水平更接近于0。因此，提高样本量能够有效提高Newton-Raphson算法估计的准确性。"
   ]
  },
  {
   "cell_type": "code",
   "execution_count": null,
   "id": "2ee04134",
   "metadata": {},
   "outputs": [],
   "source": []
  }
 ],
 "metadata": {
  "kernelspec": {
   "display_name": "Python 3 (ipykernel)",
   "language": "python",
   "name": "python3"
  },
  "language_info": {
   "codemirror_mode": {
    "name": "ipython",
    "version": 3
   },
   "file_extension": ".py",
   "mimetype": "text/x-python",
   "name": "python",
   "nbconvert_exporter": "python",
   "pygments_lexer": "ipython3",
   "version": "3.9.12"
  }
 },
 "nbformat": 4,
 "nbformat_minor": 5
}
