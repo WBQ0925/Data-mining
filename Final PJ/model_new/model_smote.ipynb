{
 "cells": [
  {
   "cell_type": "code",
   "execution_count": 1,
   "id": "040b3b59",
   "metadata": {},
   "outputs": [
    {
     "name": "stderr",
     "output_type": "stream",
     "text": [
      "C:\\Users\\86131\\anaconda3\\lib\\site-packages\\numpy\\_distributor_init.py:30: UserWarning: loaded more than 1 DLL from .libs:\n",
      "C:\\Users\\86131\\anaconda3\\lib\\site-packages\\numpy\\.libs\\libopenblas.EL2C6PLE4ZYW3ECEVIV3OXXGRN2NRFM2.gfortran-win_amd64.dll\n",
      "C:\\Users\\86131\\anaconda3\\lib\\site-packages\\numpy\\.libs\\libopenblas.WCDJNK7YVMPZQ2ME2ZZHJJRJ3JIKNDB7.gfortran-win_amd64.dll\n",
      "  warnings.warn(\"loaded more than 1 DLL from .libs:\"\n"
     ]
    }
   ],
   "source": [
    "import numpy as np\n",
    "import pandas as pd\n",
    "import matplotlib.pyplot as plt\n",
    "from sklearn.model_selection import StratifiedKFold\n",
    "from sklearn.feature_selection import SelectKBest, chi2\n",
    "from sklearn.linear_model import LogisticRegression\n",
    "from sklearn.tree import DecisionTreeClassifier\n",
    "from sklearn.ensemble import RandomForestClassifier, AdaBoostClassifier\n",
    "from sklearn.svm import SVC\n",
    "from sklearn.naive_bayes import GaussianNB\n",
    "from sklearn.metrics import accuracy_score, confusion_matrix\n",
    "from sklearn.neighbors import KNeighborsClassifier\n",
    "import warnings\n",
    "warnings.filterwarnings('ignore')\n",
    "from sklearn.model_selection import GridSearchCV\n",
    "from sklearn import metrics\n",
    "from sklearn import tree\n",
    "from sklearn.tree import DecisionTreeClassifier,DecisionTreeRegressor, export_graphviz\n",
    "from sklearn.ensemble import GradientBoostingClassifier\n",
    "from sklearn.tree import plot_tree\n",
    "from sklearn.model_selection import train_test_split"
   ]
  },
  {
   "cell_type": "code",
   "execution_count": 2,
   "id": "0b89a636",
   "metadata": {},
   "outputs": [],
   "source": [
    "data=pd.read_csv('train_smote.csv')"
   ]
  },
  {
   "cell_type": "code",
   "execution_count": 3,
   "id": "af002be6",
   "metadata": {},
   "outputs": [
    {
     "data": {
      "text/html": [
       "<div>\n",
       "<style scoped>\n",
       "    .dataframe tbody tr th:only-of-type {\n",
       "        vertical-align: middle;\n",
       "    }\n",
       "\n",
       "    .dataframe tbody tr th {\n",
       "        vertical-align: top;\n",
       "    }\n",
       "\n",
       "    .dataframe thead th {\n",
       "        text-align: right;\n",
       "    }\n",
       "</style>\n",
       "<table border=\"1\" class=\"dataframe\">\n",
       "  <thead>\n",
       "    <tr style=\"text-align: right;\">\n",
       "      <th></th>\n",
       "      <th>Unnamed: 0</th>\n",
       "      <th>age</th>\n",
       "      <th>workclass</th>\n",
       "      <th>fnlwgt</th>\n",
       "      <th>education</th>\n",
       "      <th>education.num</th>\n",
       "      <th>marital.status</th>\n",
       "      <th>occupation</th>\n",
       "      <th>relationship</th>\n",
       "      <th>race</th>\n",
       "      <th>sex</th>\n",
       "      <th>capital.gain</th>\n",
       "      <th>capital.loss</th>\n",
       "      <th>hours.per.week</th>\n",
       "      <th>native.country</th>\n",
       "      <th>label</th>\n",
       "    </tr>\n",
       "  </thead>\n",
       "  <tbody>\n",
       "    <tr>\n",
       "      <th>0</th>\n",
       "      <td>0</td>\n",
       "      <td>0.177807</td>\n",
       "      <td>-0.435464</td>\n",
       "      <td>0.173244</td>\n",
       "      <td>-0.339036</td>\n",
       "      <td>-0.036491</td>\n",
       "      <td>1.074802</td>\n",
       "      <td>0.181631</td>\n",
       "      <td>1.069594</td>\n",
       "      <td>0.34859</td>\n",
       "      <td>0.698654</td>\n",
       "      <td>-0.144749</td>\n",
       "      <td>-0.21852</td>\n",
       "      <td>0.851632</td>\n",
       "      <td>0.130109</td>\n",
       "      <td>0</td>\n",
       "    </tr>\n",
       "    <tr>\n",
       "      <th>1</th>\n",
       "      <td>1</td>\n",
       "      <td>-0.993245</td>\n",
       "      <td>0.721903</td>\n",
       "      <td>0.018238</td>\n",
       "      <td>1.084470</td>\n",
       "      <td>1.130745</td>\n",
       "      <td>-1.020020</td>\n",
       "      <td>-0.072637</td>\n",
       "      <td>-1.178617</td>\n",
       "      <td>0.34859</td>\n",
       "      <td>0.698654</td>\n",
       "      <td>-0.144749</td>\n",
       "      <td>-0.21852</td>\n",
       "      <td>-1.254868</td>\n",
       "      <td>0.130109</td>\n",
       "      <td>0</td>\n",
       "    </tr>\n",
       "    <tr>\n",
       "      <th>2</th>\n",
       "      <td>2</td>\n",
       "      <td>-0.993245</td>\n",
       "      <td>-0.435464</td>\n",
       "      <td>-0.092370</td>\n",
       "      <td>-0.515375</td>\n",
       "      <td>-0.425570</td>\n",
       "      <td>-1.020020</td>\n",
       "      <td>-0.815525</td>\n",
       "      <td>-0.918867</td>\n",
       "      <td>-2.73900</td>\n",
       "      <td>-1.431324</td>\n",
       "      <td>-0.144749</td>\n",
       "      <td>-0.21852</td>\n",
       "      <td>-0.039580</td>\n",
       "      <td>0.130109</td>\n",
       "      <td>0</td>\n",
       "    </tr>\n",
       "    <tr>\n",
       "      <th>3</th>\n",
       "      <td>3</td>\n",
       "      <td>1.056095</td>\n",
       "      <td>-0.435464</td>\n",
       "      <td>-0.631948</td>\n",
       "      <td>-0.515375</td>\n",
       "      <td>-0.425570</td>\n",
       "      <td>-0.857808</td>\n",
       "      <td>-0.881218</td>\n",
       "      <td>-0.710149</td>\n",
       "      <td>0.34859</td>\n",
       "      <td>-1.431324</td>\n",
       "      <td>-0.144749</td>\n",
       "      <td>-0.21852</td>\n",
       "      <td>-0.039580</td>\n",
       "      <td>0.130109</td>\n",
       "      <td>0</td>\n",
       "    </tr>\n",
       "    <tr>\n",
       "      <th>4</th>\n",
       "      <td>4</td>\n",
       "      <td>-1.066435</td>\n",
       "      <td>-0.435464</td>\n",
       "      <td>-0.639694</td>\n",
       "      <td>1.084470</td>\n",
       "      <td>1.130745</td>\n",
       "      <td>-1.020020</td>\n",
       "      <td>-0.926234</td>\n",
       "      <td>-1.178617</td>\n",
       "      <td>0.34859</td>\n",
       "      <td>-1.431324</td>\n",
       "      <td>-0.144749</td>\n",
       "      <td>-0.21852</td>\n",
       "      <td>-0.039580</td>\n",
       "      <td>0.130109</td>\n",
       "      <td>0</td>\n",
       "    </tr>\n",
       "  </tbody>\n",
       "</table>\n",
       "</div>"
      ],
      "text/plain": [
       "   Unnamed: 0       age  workclass    fnlwgt  education  education.num  \\\n",
       "0           0  0.177807  -0.435464  0.173244  -0.339036      -0.036491   \n",
       "1           1 -0.993245   0.721903  0.018238   1.084470       1.130745   \n",
       "2           2 -0.993245  -0.435464 -0.092370  -0.515375      -0.425570   \n",
       "3           3  1.056095  -0.435464 -0.631948  -0.515375      -0.425570   \n",
       "4           4 -1.066435  -0.435464 -0.639694   1.084470       1.130745   \n",
       "\n",
       "   marital.status  occupation  relationship     race       sex  capital.gain  \\\n",
       "0        1.074802    0.181631      1.069594  0.34859  0.698654     -0.144749   \n",
       "1       -1.020020   -0.072637     -1.178617  0.34859  0.698654     -0.144749   \n",
       "2       -1.020020   -0.815525     -0.918867 -2.73900 -1.431324     -0.144749   \n",
       "3       -0.857808   -0.881218     -0.710149  0.34859 -1.431324     -0.144749   \n",
       "4       -1.020020   -0.926234     -1.178617  0.34859 -1.431324     -0.144749   \n",
       "\n",
       "   capital.loss  hours.per.week  native.country  label  \n",
       "0      -0.21852        0.851632        0.130109      0  \n",
       "1      -0.21852       -1.254868        0.130109      0  \n",
       "2      -0.21852       -0.039580        0.130109      0  \n",
       "3      -0.21852       -0.039580        0.130109      0  \n",
       "4      -0.21852       -0.039580        0.130109      0  "
      ]
     },
     "execution_count": 3,
     "metadata": {},
     "output_type": "execute_result"
    }
   ],
   "source": [
    "data.head()"
   ]
  },
  {
   "cell_type": "code",
   "execution_count": 5,
   "id": "ad65cb61",
   "metadata": {},
   "outputs": [],
   "source": [
    "df=data.drop(columns=['Unnamed: 0','education','fnlwgt','capital.gain','capital.loss'])"
   ]
  },
  {
   "cell_type": "code",
   "execution_count": 6,
   "id": "55b3fe25",
   "metadata": {},
   "outputs": [],
   "source": [
    "df=df[['age','education.num','occupation','relationship','hours.per.week','label']]"
   ]
  },
  {
   "cell_type": "code",
   "execution_count": 7,
   "id": "d5f1c80b",
   "metadata": {},
   "outputs": [
    {
     "data": {
      "text/plain": [
       "(39508, 6)"
      ]
     },
     "execution_count": 7,
     "metadata": {},
     "output_type": "execute_result"
    }
   ],
   "source": [
    "df.shape"
   ]
  },
  {
   "cell_type": "code",
   "execution_count": 8,
   "id": "839601bb",
   "metadata": {},
   "outputs": [],
   "source": [
    "X=df.drop(['label'],axis=1)\n",
    "y=df['label']"
   ]
  },
  {
   "cell_type": "code",
   "execution_count": 9,
   "id": "629a6665",
   "metadata": {},
   "outputs": [],
   "source": [
    "X_train, X_test, y_train, y_test = train_test_split(X, y, test_size = 0.2, random_state = 0)"
   ]
  },
  {
   "cell_type": "markdown",
   "id": "cfc125f9",
   "metadata": {},
   "source": [
    "# 1. LR"
   ]
  },
  {
   "cell_type": "code",
   "execution_count": 10,
   "id": "7b31fde8",
   "metadata": {},
   "outputs": [
    {
     "data": {
      "text/plain": [
       "{'C': 0.1, 'max_iter': 30, 'penalty': 'l2', 'solver': 'liblinear'}"
      ]
     },
     "execution_count": 10,
     "metadata": {},
     "output_type": "execute_result"
    }
   ],
   "source": [
    "# 逻辑回归模型\n",
    "lr = LogisticRegression()\n",
    "# 设置需要网格搜索的参数\n",
    "params = {\n",
    "    'penalty': ['l1', 'l2'],\n",
    "    'C': [0.1, 0.3, 0.5, 0.7, 1.0, 1.5, 2.0],\n",
    "    'max_iter': [30, 50, 70, 100],\n",
    "    'solver': ['lfgbs', 'sag', 'liblinear', 'newton-cg', 'saga']\n",
    "}\n",
    "\n",
    "# 创建网格搜索对象\n",
    "gscv = GridSearchCV(lr, params)\n",
    "\n",
    "# 训练\n",
    "gscv.fit(X_train, y_train)\n",
    "\n",
    "# 查看最优参数\n",
    "gscv.best_params_ \n"
   ]
  },
  {
   "cell_type": "code",
   "execution_count": 11,
   "id": "f89ed334",
   "metadata": {},
   "outputs": [
    {
     "name": "stdout",
     "output_type": "stream",
     "text": [
      "label     0     1\n",
      "row_0            \n",
      "0      3096   671\n",
      "1       864  3271\n",
      "模型在训练集上的准确率为0.802411\n",
      "模型在测试集上的准确率为0.805745\n"
     ]
    },
    {
     "data": {
      "image/png": "[encoded data removed]",
      "text/plain": [
       "<Figure size 432x288 with 1 Axes>"
      ]
     },
     "metadata": {
      "needs_background": "light"
     },
     "output_type": "display_data"
    }
   ],
   "source": [
    "# 使用最佳参数重新创建实例化对象\n",
    "lr = LogisticRegression(C=0.1, max_iter=30, penalty='l2', solver='liblinear')\n",
    "\n",
    "# 训练\n",
    "lr.fit(X_train, y_train)\n",
    "\n",
    "# 打分\n",
    "lr.score(X_test, y_test)\n",
    "lr_pred = lr.predict(X_test)\n",
    "print(pd.crosstab(lr_pred, y_test))\n",
    "\n",
    "# 模型得分\n",
    "print(\"模型在训练集上的准确率为%f\" % lr.score(X_train, y_train))\n",
    "print(\"模型在测试集上的准确率为%f\" % lr.score(X_test, y_test))\n",
    "\n",
    "\n",
    "\n",
    "# 计算ROC曲线的x轴 和 y轴数据\n",
    "fpr, tpr, _ = metrics.roc_curve(y_test, lr.predict_proba(X_test)[:,1])\n",
    "# 绘制ROC曲线\n",
    "plt.plot(fpr, tpr, linestyle = 'solid', color ='red')\n",
    "# 添加阴影\n",
    "plt.stackplot(fpr, tpr, color='steelblue')\n",
    "# 绘制参考线\n",
    "plt.plot([0,1],[0,1],linestyle='dashed', color='black')\n",
    "# 添加文本\n",
    "plt.text(0.6, 0.4, 'AUC=%.3f' % metrics.auc(fpr,tpr), fontdict=dict(size =16))\n",
    "plt.show()\n"
   ]
  },
  {
   "cell_type": "markdown",
   "id": "37122a54",
   "metadata": {},
   "source": [
    "# 2. KNN"
   ]
  },
  {
   "cell_type": "code",
   "execution_count": 12,
   "id": "8dc4f8af",
   "metadata": {},
   "outputs": [
    {
     "data": {
      "text/plain": [
       "({'mean_fit_time': array([0.0280092 , 0.02705166, 0.0328846 , 0.02808352, 0.02759931,\n",
       "         0.02649846, 0.02756345, 0.0275625 , 0.02804511, 0.02825646,\n",
       "         0.02901568]),\n",
       "  'std_fit_time': array([0.00227366, 0.00192504, 0.01327212, 0.00475114, 0.0027358 ,\n",
       "         0.00256604, 0.00235452, 0.00337216, 0.00221614, 0.00209393,\n",
       "         0.00217665]),\n",
       "  'mean_score_time': array([0.09243515, 0.0984416 , 0.12859652, 0.11286352, 0.10805931,\n",
       "         0.11064637, 0.11393101, 0.11461701, 0.11746323, 0.12243621,\n",
       "         0.12828562]),\n",
       "  'std_score_time': array([0.0053766 , 0.00219062, 0.0411867 , 0.00595903, 0.0045182 ,\n",
       "         0.00570411, 0.00406623, 0.00367252, 0.00323134, 0.00401336,\n",
       "         0.00616027]),\n",
       "  'param_n_neighbors': masked_array(data=[1, 2, 3, 4, 5, 6, 7, 8, 9, 10, 11],\n",
       "               mask=[False, False, False, False, False, False, False, False,\n",
       "                     False, False, False],\n",
       "         fill_value='?',\n",
       "              dtype=object),\n",
       "  'params': [{'n_neighbors': 1},\n",
       "   {'n_neighbors': 2},\n",
       "   {'n_neighbors': 3},\n",
       "   {'n_neighbors': 4},\n",
       "   {'n_neighbors': 5},\n",
       "   {'n_neighbors': 6},\n",
       "   {'n_neighbors': 7},\n",
       "   {'n_neighbors': 8},\n",
       "   {'n_neighbors': 9},\n",
       "   {'n_neighbors': 10},\n",
       "   {'n_neighbors': 11}],\n",
       "  'split0_test_score': array([0.80955394, 0.77728567, 0.81777918, 0.80733945, 0.81366656,\n",
       "         0.80892123, 0.81461563, 0.80607403, 0.81050301, 0.80575767,\n",
       "         0.80860487]),\n",
       "  'split1_test_score': array([0.80955394, 0.77570389, 0.81176843, 0.79658336, 0.81904461,\n",
       "         0.80892123, 0.81335021, 0.81208478, 0.81936096, 0.81461563,\n",
       "         0.81714647]),\n",
       "  'split2_test_score': array([0.80955394, 0.77570389, 0.81493198, 0.79784878, 0.81714647,\n",
       "         0.80797216, 0.81461563, 0.81398292, 0.81556469, 0.80955394,\n",
       "         0.81619741]),\n",
       "  'split3_test_score': array([0.81398292, 0.7763366 , 0.80892123, 0.7991142 , 0.80987029,\n",
       "         0.80765581, 0.81429927, 0.81050301, 0.80797216, 0.80670674,\n",
       "         0.81145207]),\n",
       "  'split4_test_score': array([0.81335021, 0.7791838 , 0.81683012, 0.80322683, 0.82726985,\n",
       "         0.82220816, 0.81999367, 0.81714647, 0.82284087, 0.8212591 ,\n",
       "         0.82220816]),\n",
       "  'split5_test_score': array([0.79848149, 0.77095856, 0.80354318, 0.79088896, 0.81018665,\n",
       "         0.80385954, 0.81081936, 0.80702309, 0.80987029, 0.80797216,\n",
       "         0.81398292]),\n",
       "  'split6_test_score': array([0.81898734, 0.78417722, 0.82436709, 0.81392405, 0.82563291,\n",
       "         0.81803797, 0.82278481, 0.82151899, 0.81867089, 0.8164557 ,\n",
       "         0.81898734]),\n",
       "  'split7_test_score': array([0.8193038 , 0.78322785, 0.82658228, 0.81582278, 0.83006329,\n",
       "         0.81993671, 0.82689873, 0.8221519 , 0.82594937, 0.82056962,\n",
       "         0.82911392]),\n",
       "  'split8_test_score': array([0.82056962, 0.78259494, 0.82183544, 0.80411392, 0.82563291,\n",
       "         0.81487342, 0.83006329, 0.81772152, 0.82658228, 0.82151899,\n",
       "         0.82689873]),\n",
       "  'split9_test_score': array([0.8       , 0.77056962, 0.80537975, 0.80158228, 0.81107595,\n",
       "         0.80632911, 0.81044304, 0.81455696, 0.82025316, 0.81582278,\n",
       "         0.81772152]),\n",
       "  'mean_test_score': array([0.81133372, 0.7775742 , 0.81519387, 0.80304446, 0.81895895,\n",
       "         0.81187153, 0.81778836, 0.81427637, 0.81775677, 0.81402323,\n",
       "         0.81823134]),\n",
       "  'std_test_score': array([0.00722234, 0.00452553, 0.0074197 , 0.00731681, 0.00731069,\n",
       "         0.00603511, 0.00646548, 0.00523145, 0.0062917 , 0.00582534,\n",
       "         0.00610075]),\n",
       "  'rank_test_score': array([ 9, 11,  5, 10,  1,  8,  3,  6,  4,  7,  2])},\n",
       " {'n_neighbors': 5},\n",
       " 0.8189589498596421)"
      ]
     },
     "execution_count": 12,
     "metadata": {},
     "output_type": "execute_result"
    }
   ],
   "source": [
    "# 选择不同的参数\n",
    "k_options = list(range(1,12))\n",
    "parameters = {'n_neighbors':k_options}\n",
    "# 搜索不同的K值\n",
    "grid_kn = GridSearchCV(estimator= KNeighborsClassifier(), param_grid=parameters, cv=10, scoring='accuracy')\n",
    "grid_kn.fit(X_train, y_train)\n",
    "# 结果输出\n",
    "grid_kn.cv_results_, grid_kn.best_params_, grid_kn.best_score_\n"
   ]
  },
  {
   "cell_type": "code",
   "execution_count": 13,
   "id": "8669f40a",
   "metadata": {},
   "outputs": [
    {
     "name": "stdout",
     "output_type": "stream",
     "text": [
      "label     0     1\n",
      "row_0            \n",
      "0      3229   652\n",
      "1       731  3290\n",
      "模型在训练集上的准确率为0.874581\n",
      "模型在测试集上的准确率为0.824981\n"
     ]
    },
    {
     "data": {
      "image/png": "[encoded data removed]",
      "text/plain": [
       "<Figure size 432x288 with 1 Axes>"
      ]
     },
     "metadata": {
      "needs_background": "light"
     },
     "output_type": "display_data"
    }
   ],
   "source": [
    "grid_kn_pred = grid_kn.predict(X_test)\n",
    "print(pd.crosstab(grid_kn_pred, y_test))\n",
    "\n",
    "# 模型得分\n",
    "print(\"模型在训练集上的准确率为%f\" % grid_kn.score(X_train, y_train))\n",
    "print(\"模型在测试集上的准确率为%f\" % grid_kn.score(X_test, y_test))\n",
    "\n",
    "fpr, tpr, _ = metrics.roc_curve(y_test, grid_kn.predict_proba(X_test)[:,1])\n",
    "plt.plot(fpr, tpr, linestyle = 'solid', color ='red')\n",
    "plt.stackplot(fpr, tpr, color='steelblue')\n",
    "plt.plot([0,1],[0,1],linestyle='dashed', color='black')\n",
    "plt.text(0.6, 0.4, 'AUC=%.3f' % metrics.auc(fpr,tpr), fontdict=dict(size =16))\n",
    "plt.show()"
   ]
  },
  {
   "cell_type": "markdown",
   "id": "9628ddb0",
   "metadata": {},
   "source": [
    "# 3. 决策树"
   ]
  },
  {
   "cell_type": "code",
   "execution_count": 14,
   "id": "0406c294",
   "metadata": {},
   "outputs": [
    {
     "name": "stdout",
     "output_type": "stream",
     "text": [
      "{'max_depth': 12}\n"
     ]
    }
   ],
   "source": [
    "params = {'max_depth' : range(1, 20)}\n",
    "best_clf = GridSearchCV(DecisionTreeClassifier(criterion = 'entropy', random_state = 20), param_grid = params)\n",
    "best_clf = best_clf.fit(X_train, y_train)\n",
    "print(best_clf.best_params_)\n"
   ]
  },
  {
   "cell_type": "code",
   "execution_count": 15,
   "id": "983bf120",
   "metadata": {},
   "outputs": [
    {
     "name": "stdout",
     "output_type": "stream",
     "text": [
      "Training Accuracy: 0.8684110611909132\n",
      "Validation Accuracy: 0.8505441660339155\n",
      "参数权重： [('age', 0.13259932767136226), ('workclass', 0.20893640422475035), ('fnlwgt', 0.12407753599222396), ('education', 0.39486873941389006), ('education.num', 0.13951799269777332)]\n",
      "Confusion Matrix of Decision Tree:\n",
      "[[3315  645]\n",
      " [ 536 3406]]\n"
     ]
    }
   ],
   "source": [
    "# 决策树模型\n",
    "model= DecisionTreeClassifier(criterion=\"entropy\",max_depth=12,min_samples_split=5)#决策深度设为8，分裂节点所需样本数至少为5\n",
    "clf_model=model.fit(X_train, y_train)\n",
    "predict_train_clf = clf_model.predict(X_train)\n",
    "predict_test_clf = clf_model.predict(X_test)\n",
    "my_feature_name=['age','workclass','fnlwgt','education','education.num','martial.status','occupation','relationship','race','sex','captial.gain'\n",
    "             ,'captial.loss','hours.per.week','native.country']\n",
    "print('Training Accuracy:', metrics.accuracy_score(y_train, predict_train_clf))\n",
    "print('Validation Accuracy:', metrics.accuracy_score(y_test, predict_test_clf))\n",
    "print('参数权重：',[*zip(my_feature_name,clf_model.feature_importances_)])\n",
    "cm_clf = confusion_matrix(y_test, predict_test_clf)\n",
    "print(\"Confusion Matrix of Decision Tree:\")\n",
    "print(cm_clf)"
   ]
  },
  {
   "cell_type": "code",
   "execution_count": 16,
   "id": "1ad17b67",
   "metadata": {},
   "outputs": [
    {
     "data": {
      "image/png": "[encoded data removed]",
      "text/plain": [
       "<Figure size 432x288 with 1 Axes>"
      ]
     },
     "metadata": {
      "needs_background": "light"
     },
     "output_type": "display_data"
    }
   ],
   "source": [
    "fpr, tpr, _ = metrics.roc_curve(y_test, model.predict_proba(X_test)[:,1])\n",
    "plt.plot(fpr, tpr, linestyle = 'solid', color ='red')\n",
    "plt.stackplot(fpr, tpr, color='steelblue')\n",
    "plt.plot([0,1],[0,1],linestyle='dashed', color='black')\n",
    "plt.text(0.6, 0.4, 'AUC=%.3f' % metrics.auc(fpr,tpr), fontdict=dict(size =16))\n",
    "plt.show()"
   ]
  },
  {
   "cell_type": "markdown",
   "id": "a541470c",
   "metadata": {},
   "source": [
    "# 4.SVM"
   ]
  },
  {
   "cell_type": "code",
   "execution_count": 20,
   "id": "22923476",
   "metadata": {},
   "outputs": [
    {
     "name": "stdout",
     "output_type": "stream",
     "text": [
      "模型在训练集上的准确率为0.790230\n",
      "模型在测试集上的准确率为0.792584\n"
     ]
    }
   ],
   "source": [
    "svm= SVC(kernel = 'linear',probability=True)\n",
    "svm = svm.fit(X_train, y_train)\n",
    "# 模型得分\n",
    "print(\"模型在训练集上的准确率为%f\" % svm.score(X_train, y_train))\n",
    "print(\"模型在测试集上的准确率为%f\" % svm.score(X_test, y_test))"
   ]
  },
  {
   "cell_type": "code",
   "execution_count": 21,
   "id": "5bba218e",
   "metadata": {},
   "outputs": [
    {
     "data": {
      "image/png": "[encoded data removed]",
      "text/plain": [
       "<Figure size 432x288 with 1 Axes>"
      ]
     },
     "metadata": {
      "needs_background": "light"
     },
     "output_type": "display_data"
    }
   ],
   "source": [
    "fpr, tpr, _ = metrics.roc_curve(y_test, svm.predict_proba(X_test)[:,1])\n",
    "plt.plot(fpr, tpr, linestyle = 'solid', color ='red')\n",
    "plt.stackplot(fpr, tpr, color='steelblue')\n",
    "plt.plot([0,1],[0,1],linestyle='dashed', color='black')\n",
    "plt.text(0.6, 0.4, 'AUC=%.3f' % metrics.auc(fpr,tpr), fontdict=dict(size =16))\n",
    "plt.show()"
   ]
  },
  {
   "cell_type": "markdown",
   "id": "dbbe54f0",
   "metadata": {},
   "source": [
    "# 5.RandomForest"
   ]
  },
  {
   "cell_type": "code",
   "execution_count": 17,
   "id": "1639b3ac",
   "metadata": {},
   "outputs": [
    {
     "name": "stdout",
     "output_type": "stream",
     "text": [
      "0.857875159510329\n",
      "{'n_estimators': 185}\n"
     ]
    }
   ],
   "source": [
    "rfr_best = RandomForestClassifier()\n",
    "params ={'n_estimators':range(50,200,5)}\n",
    "gs = GridSearchCV(rfr_best, params, cv=5)\n",
    "gs.fit(X_train,y_train)\n",
    " \n",
    "#查验优化后的超参数配置\n",
    "print(gs.best_score_)\n",
    "print(gs.best_params_)\n"
   ]
  },
  {
   "cell_type": "code",
   "execution_count": 18,
   "id": "3526fb6d",
   "metadata": {},
   "outputs": [
    {
     "name": "stdout",
     "output_type": "stream",
     "text": [
      "模型在训练集上的准确率为0.865722\n",
      "模型在测试集上的准确率为0.859909\n"
     ]
    }
   ],
   "source": [
    "rf_best = RandomForestClassifier(n_estimators = 185,max_depth=10,min_samples_split=5,criterion='entropy')\n",
    "rf_best = rf_best.fit(X_train, y_train)\n",
    "score = rf_best.score(X_test, y_test)\n",
    "# 模型得分\n",
    "print(\"模型在训练集上的准确率为%f\" % rf_best.score(X_train, y_train))\n",
    "print(\"模型在测试集上的准确率为%f\" % rf_best.score(X_test, y_test))"
   ]
  },
  {
   "cell_type": "code",
   "execution_count": 19,
   "id": "8fee2f27",
   "metadata": {},
   "outputs": [
    {
     "data": {
      "image/png": "[encoded data removed]",
      "text/plain": [
       "<Figure size 432x288 with 1 Axes>"
      ]
     },
     "metadata": {
      "needs_background": "light"
     },
     "output_type": "display_data"
    }
   ],
   "source": [
    "fpr, tpr, _ = metrics.roc_curve(y_test, rf_best.predict_proba(X_test)[:,1])\n",
    "plt.plot(fpr, tpr, linestyle = 'solid', color ='red')\n",
    "plt.stackplot(fpr, tpr, color='steelblue')\n",
    "plt.plot([0,1],[0,1],linestyle='dashed', color='black')\n",
    "plt.text(0.6, 0.4, 'AUC=%.3f' % metrics.auc(fpr,tpr), fontdict=dict(size =16))\n",
    "plt.show()"
   ]
  },
  {
   "cell_type": "markdown",
   "id": "0d22d82b",
   "metadata": {},
   "source": [
    "过拟合现象得到了很好地解决，比未加smote的数据好太多。AUC也提升了很多"
   ]
  },
  {
   "cell_type": "markdown",
   "id": "b76787c5",
   "metadata": {},
   "source": [
    "# 6.Adaboost"
   ]
  },
  {
   "cell_type": "code",
   "execution_count": 20,
   "id": "d9d643c5",
   "metadata": {},
   "outputs": [
    {
     "name": "stdout",
     "output_type": "stream",
     "text": [
      "Confusion Matrix of AdaBoost:\n",
      "[[3212  748]\n",
      " [ 496 3446]]\n",
      "模型在训练集上的准确率为0.841612\n",
      "模型在测试集上的准确率为0.842572\n"
     ]
    }
   ],
   "source": [
    "ada = AdaBoostClassifier()\n",
    "ada.fit(X_train, y_train)\n",
    "y_pred_ada = ada.predict(X_test)\n",
    "acc_ada = accuracy_score(y_test, y_pred_ada)\n",
    "cm_ada = confusion_matrix(y_test, y_pred_ada)\n",
    "print(\"Confusion Matrix of AdaBoost:\")\n",
    "print(cm_ada)\n",
    "print(\"模型在训练集上的准确率为%f\" % ada.score(X_train, y_train))\n",
    "print(\"模型在测试集上的准确率为%f\" % ada.score(X_test, y_test))"
   ]
  },
  {
   "cell_type": "code",
   "execution_count": 21,
   "id": "3bce65fb",
   "metadata": {},
   "outputs": [
    {
     "data": {
      "image/png": "[encoded data removed]",
      "text/plain": [
       "<Figure size 432x288 with 1 Axes>"
      ]
     },
     "metadata": {
      "needs_background": "light"
     },
     "output_type": "display_data"
    }
   ],
   "source": [
    "fpr, tpr, _ = metrics.roc_curve(y_test, ada.predict_proba(X_test)[:,1])\n",
    "plt.plot(fpr, tpr, linestyle = 'solid', color ='red')\n",
    "plt.stackplot(fpr, tpr, color='steelblue')\n",
    "plt.plot([0,1],[0,1],linestyle='dashed', color='black')\n",
    "plt.text(0.6, 0.4, 'AUC=%.3f' % metrics.auc(fpr,tpr), fontdict=dict(size =16))\n",
    "plt.show()"
   ]
  },
  {
   "cell_type": "markdown",
   "id": "7505a678",
   "metadata": {},
   "source": [
    "# 7. GBDT"
   ]
  },
  {
   "cell_type": "code",
   "execution_count": 22,
   "id": "bad620cf",
   "metadata": {},
   "outputs": [
    {
     "name": "stdout",
     "output_type": "stream",
     "text": [
      "label     0     1\n",
      "row_0            \n",
      "0      3298   436\n",
      "1       662  3506\n",
      "模型在训练集上的准确率为0.859742\n",
      "模型在测试集上的准确率为0.861048\n"
     ]
    },
    {
     "data": {
      "image/png": "[encoded data removed]",
      "text/plain": [
       "<Figure size 432x288 with 1 Axes>"
      ]
     },
     "metadata": {
      "needs_background": "light"
     },
     "output_type": "display_data"
    }
   ],
   "source": [
    "gbdt = GradientBoostingClassifier()\n",
    "gbdt.fit(X_train,y_train)\n",
    "gbdt_pred = gbdt.predict(X_test)\n",
    "print(pd.crosstab(gbdt_pred, y_test))\n",
    "\n",
    "# 模型得分\n",
    "print(\"模型在训练集上的准确率为%f\" % gbdt.score(X_train, y_train))\n",
    "print(\"模型在测试集上的准确率为%f\" % gbdt.score(X_test, y_test))\n",
    "\n",
    "fpr, tpr, _ = metrics.roc_curve(y_test, gbdt.predict_proba(X_test)[:,1])\n",
    "plt.plot(fpr, tpr, linestyle = 'solid', color ='red')\n",
    "plt.stackplot(fpr, tpr, color='steelblue')\n",
    "plt.plot([0,1],[0,1],linestyle='dashed', color='black')\n",
    "plt.text(0.6, 0.4, 'AUC=%.3f' % metrics.auc(fpr,tpr), fontdict=dict(size =16))\n",
    "plt.show()\n"
   ]
  },
  {
   "cell_type": "markdown",
   "id": "ae15ca08",
   "metadata": {},
   "source": [
    "# 8. NB"
   ]
  },
  {
   "cell_type": "code",
   "execution_count": 23,
   "id": "9139f0da",
   "metadata": {},
   "outputs": [
    {
     "name": "stdout",
     "output_type": "stream",
     "text": [
      "label     0     1\n",
      "row_0            \n",
      "0      3137   689\n",
      "1       823  3253\n",
      "模型在训练集上的准确率为0.806651\n",
      "模型在测试集上的准确率为0.808656\n"
     ]
    },
    {
     "data": {
      "image/png": "[encoded data removed]",
      "text/plain": [
       "<Figure size 432x288 with 1 Axes>"
      ]
     },
     "metadata": {
      "needs_background": "light"
     },
     "output_type": "display_data"
    }
   ],
   "source": [
    "nb = GaussianNB()\n",
    "nb.fit(X_train, y_train)\n",
    "nb_pred = nb.predict(X_test)\n",
    "acc_nb = accuracy_score(y_test, nb_pred)\n",
    "cm_nb = confusion_matrix(y_test, nb_pred)\n",
    "print(pd.crosstab(nb_pred, y_test))\n",
    "\n",
    "# 模型得分\n",
    "print(\"模型在训练集上的准确率为%f\" % nb.score(X_train, y_train))\n",
    "print(\"模型在测试集上的准确率为%f\" % nb.score(X_test, y_test))\n",
    "\n",
    "fpr, tpr, _ = metrics.roc_curve(y_test, nb.predict_proba(X_test)[:,1])\n",
    "plt.plot(fpr, tpr, linestyle = 'solid', color ='red')\n",
    "plt.stackplot(fpr, tpr, color='steelblue')\n",
    "plt.plot([0,1],[0,1],linestyle='dashed', color='black')\n",
    "plt.text(0.6, 0.4, 'AUC=%.3f' % metrics.auc(fpr,tpr), fontdict=dict(size =16))\n",
    "plt.show()"
   ]
  },
  {
   "cell_type": "markdown",
   "id": "2f0a3021",
   "metadata": {},
   "source": [
    "# 总结"
   ]
  },
  {
   "cell_type": "markdown",
   "id": "8e47d318",
   "metadata": {},
   "source": [
    "## 表一：原数据准确率比较"
   ]
  },
  {
   "cell_type": "markdown",
   "id": "f38d9c66",
   "metadata": {},
   "source": [
    "|模型|训练集准确率|测试集准确率|AUC|\n",
    "|:---|:---|:---|:---|\n",
    "|逻辑回归|82.9%|82.4%|0.877|\n",
    "|KNN|85.1%|82.1%|0.858|\n",
    "|决策树|84.2%|83.6%|0.873|\n",
    "|SVM|82.9%|82.4%|0.876|\n",
    "|随机森林|85.2%|83.8%|0.885|\n",
    "|Adaboost|83.6%|83.3%|0.883|\n",
    "|GBDT|84.4%|83.7%|0.886|\n",
    "|朴素贝叶斯|82.9%|82.9%|0.880|"
   ]
  },
  {
   "cell_type": "markdown",
   "id": "84f90a89",
   "metadata": {},
   "source": [
    "## 表二：使用smote后准确率比较"
   ]
  },
  {
   "cell_type": "markdown",
   "id": "a8427ace",
   "metadata": {},
   "source": [
    "|模型|训练集准确率|测试集准确率|AUC|\n",
    "|:---|:---|:---|:---|\n",
    "|逻辑回归|80.2%|80.6%|0.885|\n",
    "|KNN|87.5%|82.5%|0.894|\n",
    "|决策树|86.8%|85.1%|0.921|\n",
    "|SVM|79.0%|79.3%|0.881|\n",
    "|随机森林|86.6%|86.0%|0.937|\n",
    "|Adaboost|84.2%|84.3%|0.924|\n",
    "|GBDT|86.0%|86.1%|0.941|\n",
    "|朴素贝叶斯|80.7%|80.9%|0.892|"
   ]
  },
  {
   "cell_type": "markdown",
   "id": "1a867377",
   "metadata": {},
   "source": [
    "使用smote前后的数据建模选择的变量相同。可以看到，使用smote后AUC得到了明显提升，有部分算法准确率提升，部分算法准确率下降。"
   ]
  },
  {
   "cell_type": "code",
   "execution_count": null,
   "id": "46d34acd",
   "metadata": {},
   "outputs": [],
   "source": []
  }
 ],
 "metadata": {
  "kernelspec": {
   "display_name": "Python 3 (ipykernel)",
   "language": "python",
   "name": "python3"
  },
  "language_info": {
   "codemirror_mode": {
    "name": "ipython",
    "version": 3
   },
   "file_extension": ".py",
   "mimetype": "text/x-python",
   "name": "python",
   "nbconvert_exporter": "python",
   "pygments_lexer": "ipython3",
   "version": "3.9.12"
  }
 },
 "nbformat": 4,
 "nbformat_minor": 5
}
