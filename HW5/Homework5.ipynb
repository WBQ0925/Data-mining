{
 "cells": [
  {
   "cell_type": "markdown",
   "id": "a1665405",
   "metadata": {},
   "source": [
    "# Homework 5  \n",
    "## 第一部分：奥运视频热议度分析\n",
    "## 姓名：王宝琪   学号：22210980075"
   ]
  },
  {
   "cell_type": "markdown",
   "id": "0fe21072",
   "metadata": {},
   "source": [
    "### 1. 导入数据，查看数据内容"
   ]
  },
  {
   "cell_type": "code",
   "execution_count": 1,
   "id": "40f584bc",
   "metadata": {},
   "outputs": [],
   "source": [
    "#导入所需库\n",
    "import numpy as np\n",
    "import pandas as pd\n",
    "import matplotlib.pyplot as plt\n",
    "import seaborn as sns\n",
    "from sklearn.model_selection import train_test_split,GridSearchCV,StratifiedKFold\n",
    "from sklearn.tree import DecisionTreeClassifier\n",
    "from sklearn.ensemble import AdaBoostClassifier,RandomForestClassifier\n",
    "from sklearn.metrics import roc_curve,auc,accuracy_score,confusion_matrix\n",
    "plt.rcParams['font.sans-serif']=\"SimHei\"\n",
    "plt.rcParams['axes.unicode_minus'] =False"
   ]
  },
  {
   "cell_type": "code",
   "execution_count": 2,
   "id": "825a30ec",
   "metadata": {},
   "outputs": [],
   "source": [
    "#读入数据\n",
    "df=pd.read_csv(\"djolpdata.csv\")"
   ]
  },
  {
   "cell_type": "code",
   "execution_count": 3,
   "id": "4cb713ec",
   "metadata": {},
   "outputs": [
    {
     "data": {
      "text/html": [
       "<div>\n",
       "<style scoped>\n",
       "    .dataframe tbody tr th:only-of-type {\n",
       "        vertical-align: middle;\n",
       "    }\n",
       "\n",
       "    .dataframe tbody tr th {\n",
       "        vertical-align: top;\n",
       "    }\n",
       "\n",
       "    .dataframe thead th {\n",
       "        text-align: right;\n",
       "    }\n",
       "</style>\n",
       "<table border=\"1\" class=\"dataframe\">\n",
       "  <thead>\n",
       "    <tr style=\"text-align: right;\">\n",
       "      <th></th>\n",
       "      <th>hot_or_not</th>\n",
       "      <th>type_sv</th>\n",
       "      <th>nar_angle</th>\n",
       "      <th>zf_sv</th>\n",
       "      <th>length_log</th>\n",
       "      <th>title_sv</th>\n",
       "      <th>media_type</th>\n",
       "      <th>media_fans_log</th>\n",
       "      <th>type_time_effe</th>\n",
       "      <th>month1</th>\n",
       "      <th>love_sv_log</th>\n",
       "      <th>com_sv_log</th>\n",
       "    </tr>\n",
       "  </thead>\n",
       "  <tbody>\n",
       "    <tr>\n",
       "      <th>0</th>\n",
       "      <td>热议</td>\n",
       "      <td>传统话题</td>\n",
       "      <td>品牌宣传</td>\n",
       "      <td>中</td>\n",
       "      <td>1.000000</td>\n",
       "      <td>#东京奥运会倒计时1天 长风破浪会有时，直挂云帆济沧海。勇攀高峰吧！还有1天，我们就是一起冒...</td>\n",
       "      <td>主办方及授权传播主体</td>\n",
       "      <td>5.276462</td>\n",
       "      <td>即时性</td>\n",
       "      <td>1</td>\n",
       "      <td>4.806180</td>\n",
       "      <td>3.386856</td>\n",
       "    </tr>\n",
       "    <tr>\n",
       "      <th>1</th>\n",
       "      <td>热议</td>\n",
       "      <td>传统话题</td>\n",
       "      <td>品牌宣传</td>\n",
       "      <td>中</td>\n",
       "      <td>1.000000</td>\n",
       "      <td>#东京奥运会倒计时2天 奥林匹克之火，即将点亮世界 距离#东京奥运会 开幕还有2天啦</td>\n",
       "      <td>主办方及授权传播主体</td>\n",
       "      <td>5.276462</td>\n",
       "      <td>即时性</td>\n",
       "      <td>1</td>\n",
       "      <td>4.301030</td>\n",
       "      <td>3.082785</td>\n",
       "    </tr>\n",
       "    <tr>\n",
       "      <th>2</th>\n",
       "      <td>非热议</td>\n",
       "      <td>传统话题</td>\n",
       "      <td>品牌宣传</td>\n",
       "      <td>中</td>\n",
       "      <td>1.477121</td>\n",
       "      <td>#东京奥运会倒计时4天 2021年7月23日 北京时间19:00  #东京奥运 开幕在即</td>\n",
       "      <td>主办方及授权传播主体</td>\n",
       "      <td>5.276462</td>\n",
       "      <td>即时性</td>\n",
       "      <td>1</td>\n",
       "      <td>3.294466</td>\n",
       "      <td>1.633468</td>\n",
       "    </tr>\n",
       "    <tr>\n",
       "      <th>3</th>\n",
       "      <td>非热议</td>\n",
       "      <td>传统话题</td>\n",
       "      <td>品牌宣传</td>\n",
       "      <td>中</td>\n",
       "      <td>1.477121</td>\n",
       "      <td>#东京奥运会倒计时3天 还有3天#东京奥运会即将开幕</td>\n",
       "      <td>主办方及授权传播主体</td>\n",
       "      <td>5.276462</td>\n",
       "      <td>即时性</td>\n",
       "      <td>1</td>\n",
       "      <td>2.627366</td>\n",
       "      <td>1.447158</td>\n",
       "    </tr>\n",
       "    <tr>\n",
       "      <th>4</th>\n",
       "      <td>非热议</td>\n",
       "      <td>传统话题</td>\n",
       "      <td>品牌宣传</td>\n",
       "      <td>中</td>\n",
       "      <td>1.079181</td>\n",
       "      <td>#夺冠2021 东京奥运会倒计时一天，运动健儿们加油！#东京奥运会</td>\n",
       "      <td>其他机构或个人自媒体</td>\n",
       "      <td>5.369216</td>\n",
       "      <td>即时性</td>\n",
       "      <td>1</td>\n",
       "      <td>2.136721</td>\n",
       "      <td>0.477121</td>\n",
       "    </tr>\n",
       "  </tbody>\n",
       "</table>\n",
       "</div>"
      ],
      "text/plain": [
       "  hot_or_not type_sv nar_angle zf_sv  length_log  \\\n",
       "0         热议    传统话题      品牌宣传     中    1.000000   \n",
       "1         热议    传统话题      品牌宣传     中    1.000000   \n",
       "2        非热议    传统话题      品牌宣传     中    1.477121   \n",
       "3        非热议    传统话题      品牌宣传     中    1.477121   \n",
       "4        非热议    传统话题      品牌宣传     中    1.079181   \n",
       "\n",
       "                                            title_sv  media_type  \\\n",
       "0  #东京奥运会倒计时1天 长风破浪会有时，直挂云帆济沧海。勇攀高峰吧！还有1天，我们就是一起冒...  主办方及授权传播主体   \n",
       "1         #东京奥运会倒计时2天 奥林匹克之火，即将点亮世界 距离#东京奥运会 开幕还有2天啦  主办方及授权传播主体   \n",
       "2       #东京奥运会倒计时4天 2021年7月23日 北京时间19:00  #东京奥运 开幕在即  主办方及授权传播主体   \n",
       "3                         #东京奥运会倒计时3天 还有3天#东京奥运会即将开幕  主办方及授权传播主体   \n",
       "4                  #夺冠2021 东京奥运会倒计时一天，运动健儿们加油！#东京奥运会  其他机构或个人自媒体   \n",
       "\n",
       "   media_fans_log type_time_effe  month1  love_sv_log  com_sv_log  \n",
       "0        5.276462            即时性       1     4.806180    3.386856  \n",
       "1        5.276462            即时性       1     4.301030    3.082785  \n",
       "2        5.276462            即时性       1     3.294466    1.633468  \n",
       "3        5.276462            即时性       1     2.627366    1.447158  \n",
       "4        5.369216            即时性       1     2.136721    0.477121  "
      ]
     },
     "execution_count": 3,
     "metadata": {},
     "output_type": "execute_result"
    }
   ],
   "source": [
    "df.head()"
   ]
  },
  {
   "cell_type": "markdown",
   "id": "0cca6e8d",
   "metadata": {},
   "source": [
    "导入数据后可见数据的基本形式如上，其中title_sv列在之后的建模过程中无用，故删除"
   ]
  },
  {
   "cell_type": "code",
   "execution_count": 4,
   "id": "a90bcf4d",
   "metadata": {},
   "outputs": [
    {
     "data": {
      "text/html": [
       "<div>\n",
       "<style scoped>\n",
       "    .dataframe tbody tr th:only-of-type {\n",
       "        vertical-align: middle;\n",
       "    }\n",
       "\n",
       "    .dataframe tbody tr th {\n",
       "        vertical-align: top;\n",
       "    }\n",
       "\n",
       "    .dataframe thead th {\n",
       "        text-align: right;\n",
       "    }\n",
       "</style>\n",
       "<table border=\"1\" class=\"dataframe\">\n",
       "  <thead>\n",
       "    <tr style=\"text-align: right;\">\n",
       "      <th></th>\n",
       "      <th>hot_or_not</th>\n",
       "      <th>type_sv</th>\n",
       "      <th>nar_angle</th>\n",
       "      <th>zf_sv</th>\n",
       "      <th>length_log</th>\n",
       "      <th>media_type</th>\n",
       "      <th>media_fans_log</th>\n",
       "      <th>type_time_effe</th>\n",
       "      <th>month1</th>\n",
       "      <th>love_sv_log</th>\n",
       "      <th>com_sv_log</th>\n",
       "    </tr>\n",
       "  </thead>\n",
       "  <tbody>\n",
       "    <tr>\n",
       "      <th>0</th>\n",
       "      <td>热议</td>\n",
       "      <td>传统话题</td>\n",
       "      <td>品牌宣传</td>\n",
       "      <td>中</td>\n",
       "      <td>1.000000</td>\n",
       "      <td>主办方及授权传播主体</td>\n",
       "      <td>5.276462</td>\n",
       "      <td>即时性</td>\n",
       "      <td>1</td>\n",
       "      <td>4.806180</td>\n",
       "      <td>3.386856</td>\n",
       "    </tr>\n",
       "    <tr>\n",
       "      <th>1</th>\n",
       "      <td>热议</td>\n",
       "      <td>传统话题</td>\n",
       "      <td>品牌宣传</td>\n",
       "      <td>中</td>\n",
       "      <td>1.000000</td>\n",
       "      <td>主办方及授权传播主体</td>\n",
       "      <td>5.276462</td>\n",
       "      <td>即时性</td>\n",
       "      <td>1</td>\n",
       "      <td>4.301030</td>\n",
       "      <td>3.082785</td>\n",
       "    </tr>\n",
       "    <tr>\n",
       "      <th>2</th>\n",
       "      <td>非热议</td>\n",
       "      <td>传统话题</td>\n",
       "      <td>品牌宣传</td>\n",
       "      <td>中</td>\n",
       "      <td>1.477121</td>\n",
       "      <td>主办方及授权传播主体</td>\n",
       "      <td>5.276462</td>\n",
       "      <td>即时性</td>\n",
       "      <td>1</td>\n",
       "      <td>3.294466</td>\n",
       "      <td>1.633468</td>\n",
       "    </tr>\n",
       "    <tr>\n",
       "      <th>3</th>\n",
       "      <td>非热议</td>\n",
       "      <td>传统话题</td>\n",
       "      <td>品牌宣传</td>\n",
       "      <td>中</td>\n",
       "      <td>1.477121</td>\n",
       "      <td>主办方及授权传播主体</td>\n",
       "      <td>5.276462</td>\n",
       "      <td>即时性</td>\n",
       "      <td>1</td>\n",
       "      <td>2.627366</td>\n",
       "      <td>1.447158</td>\n",
       "    </tr>\n",
       "    <tr>\n",
       "      <th>4</th>\n",
       "      <td>非热议</td>\n",
       "      <td>传统话题</td>\n",
       "      <td>品牌宣传</td>\n",
       "      <td>中</td>\n",
       "      <td>1.079181</td>\n",
       "      <td>其他机构或个人自媒体</td>\n",
       "      <td>5.369216</td>\n",
       "      <td>即时性</td>\n",
       "      <td>1</td>\n",
       "      <td>2.136721</td>\n",
       "      <td>0.477121</td>\n",
       "    </tr>\n",
       "    <tr>\n",
       "      <th>...</th>\n",
       "      <td>...</td>\n",
       "      <td>...</td>\n",
       "      <td>...</td>\n",
       "      <td>...</td>\n",
       "      <td>...</td>\n",
       "      <td>...</td>\n",
       "      <td>...</td>\n",
       "      <td>...</td>\n",
       "      <td>...</td>\n",
       "      <td>...</td>\n",
       "      <td>...</td>\n",
       "    </tr>\n",
       "    <tr>\n",
       "      <th>574</th>\n",
       "      <td>热议</td>\n",
       "      <td>传统话题</td>\n",
       "      <td>赛事周边</td>\n",
       "      <td>中</td>\n",
       "      <td>1.785330</td>\n",
       "      <td>其他机构或个人自媒体</td>\n",
       "      <td>6.538197</td>\n",
       "      <td>长期</td>\n",
       "      <td>1</td>\n",
       "      <td>5.518514</td>\n",
       "      <td>4.255273</td>\n",
       "    </tr>\n",
       "    <tr>\n",
       "      <th>575</th>\n",
       "      <td>热议</td>\n",
       "      <td>传统话题</td>\n",
       "      <td>赛事周边</td>\n",
       "      <td>中</td>\n",
       "      <td>1.113943</td>\n",
       "      <td>其他机构或个人自媒体</td>\n",
       "      <td>6.834294</td>\n",
       "      <td>长期</td>\n",
       "      <td>1</td>\n",
       "      <td>5.545307</td>\n",
       "      <td>4.322219</td>\n",
       "    </tr>\n",
       "    <tr>\n",
       "      <th>576</th>\n",
       "      <td>热议</td>\n",
       "      <td>传统话题</td>\n",
       "      <td>赛事周边</td>\n",
       "      <td>中</td>\n",
       "      <td>1.662758</td>\n",
       "      <td>其他机构或个人自媒体</td>\n",
       "      <td>6.725176</td>\n",
       "      <td>长期</td>\n",
       "      <td>1</td>\n",
       "      <td>4.623249</td>\n",
       "      <td>3.071514</td>\n",
       "    </tr>\n",
       "    <tr>\n",
       "      <th>577</th>\n",
       "      <td>热议</td>\n",
       "      <td>传统话题</td>\n",
       "      <td>赛事周边</td>\n",
       "      <td>中</td>\n",
       "      <td>2.113943</td>\n",
       "      <td>其他机构或个人自媒体</td>\n",
       "      <td>5.416641</td>\n",
       "      <td>长期</td>\n",
       "      <td>1</td>\n",
       "      <td>3.708336</td>\n",
       "      <td>2.075547</td>\n",
       "    </tr>\n",
       "    <tr>\n",
       "      <th>578</th>\n",
       "      <td>热议</td>\n",
       "      <td>传统话题</td>\n",
       "      <td>赛事周边</td>\n",
       "      <td>中</td>\n",
       "      <td>1.505150</td>\n",
       "      <td>其他机构或个人自媒体</td>\n",
       "      <td>6.834294</td>\n",
       "      <td>长期</td>\n",
       "      <td>1</td>\n",
       "      <td>5.082785</td>\n",
       "      <td>3.389520</td>\n",
       "    </tr>\n",
       "  </tbody>\n",
       "</table>\n",
       "<p>579 rows × 11 columns</p>\n",
       "</div>"
      ],
      "text/plain": [
       "    hot_or_not type_sv nar_angle zf_sv  length_log  media_type  \\\n",
       "0           热议    传统话题      品牌宣传     中    1.000000  主办方及授权传播主体   \n",
       "1           热议    传统话题      品牌宣传     中    1.000000  主办方及授权传播主体   \n",
       "2          非热议    传统话题      品牌宣传     中    1.477121  主办方及授权传播主体   \n",
       "3          非热议    传统话题      品牌宣传     中    1.477121  主办方及授权传播主体   \n",
       "4          非热议    传统话题      品牌宣传     中    1.079181  其他机构或个人自媒体   \n",
       "..         ...     ...       ...   ...         ...         ...   \n",
       "574         热议    传统话题      赛事周边     中    1.785330  其他机构或个人自媒体   \n",
       "575         热议    传统话题      赛事周边     中    1.113943  其他机构或个人自媒体   \n",
       "576         热议    传统话题      赛事周边     中    1.662758  其他机构或个人自媒体   \n",
       "577         热议    传统话题      赛事周边     中    2.113943  其他机构或个人自媒体   \n",
       "578         热议    传统话题      赛事周边     中    1.505150  其他机构或个人自媒体   \n",
       "\n",
       "     media_fans_log type_time_effe  month1  love_sv_log  com_sv_log  \n",
       "0          5.276462            即时性       1     4.806180    3.386856  \n",
       "1          5.276462            即时性       1     4.301030    3.082785  \n",
       "2          5.276462            即时性       1     3.294466    1.633468  \n",
       "3          5.276462            即时性       1     2.627366    1.447158  \n",
       "4          5.369216            即时性       1     2.136721    0.477121  \n",
       "..              ...            ...     ...          ...         ...  \n",
       "574        6.538197             长期       1     5.518514    4.255273  \n",
       "575        6.834294             长期       1     5.545307    4.322219  \n",
       "576        6.725176             长期       1     4.623249    3.071514  \n",
       "577        5.416641             长期       1     3.708336    2.075547  \n",
       "578        6.834294             长期       1     5.082785    3.389520  \n",
       "\n",
       "[579 rows x 11 columns]"
      ]
     },
     "execution_count": 4,
     "metadata": {},
     "output_type": "execute_result"
    }
   ],
   "source": [
    "data=df.drop(columns='title_sv')\n",
    "\n",
    "data"
   ]
  },
  {
   "cell_type": "code",
   "execution_count": 5,
   "id": "e4b756d4",
   "metadata": {},
   "outputs": [
    {
     "name": "stdout",
     "output_type": "stream",
     "text": [
      "<class 'pandas.core.frame.DataFrame'>\n",
      "RangeIndex: 579 entries, 0 to 578\n",
      "Data columns (total 11 columns):\n",
      " #   Column          Non-Null Count  Dtype  \n",
      "---  ------          --------------  -----  \n",
      " 0   hot_or_not      579 non-null    object \n",
      " 1   type_sv         579 non-null    object \n",
      " 2   nar_angle       579 non-null    object \n",
      " 3   zf_sv           579 non-null    object \n",
      " 4   length_log      579 non-null    float64\n",
      " 5   media_type      579 non-null    object \n",
      " 6   media_fans_log  579 non-null    float64\n",
      " 7   type_time_effe  579 non-null    object \n",
      " 8   month1          579 non-null    int64  \n",
      " 9   love_sv_log     579 non-null    float64\n",
      " 10  com_sv_log      579 non-null    float64\n",
      "dtypes: float64(4), int64(1), object(6)\n",
      "memory usage: 49.9+ KB\n"
     ]
    }
   ],
   "source": [
    "data.info()"
   ]
  },
  {
   "cell_type": "markdown",
   "id": "60eb0b80",
   "metadata": {},
   "source": [
    "去除视频标题列后剩余11列，其中除length_log,media_fans_log,month1,love_sv_log,com_sv_log列外均为定性变量，在之后会转化为因子类型进行建模。"
   ]
  },
  {
   "cell_type": "markdown",
   "id": "5bcd93aa",
   "metadata": {},
   "source": [
    "### 2. 绘制评论量和点赞数的直方图"
   ]
  },
  {
   "cell_type": "code",
   "execution_count": 6,
   "id": "ccd119dd",
   "metadata": {},
   "outputs": [
    {
     "data": {
      "image/png": "[encoded data removed]",
      "text/plain": [
       "<Figure size 864x432 with 2 Axes>"
      ]
     },
     "metadata": {},
     "output_type": "display_data"
    }
   ],
   "source": [
    "sns.set_style('darkgrid',{'font.sans-serif':['SimHei','Arial']})\n",
    "fig,axs=plt.subplots(ncols=2,figsize=(12,6))\n",
    "sns.histplot(data=data,x='com_sv_log',ax=axs[0],kde=True,color='g')\n",
    "sns.histplot(data=data,x='love_sv_log',ax=axs[1],kde=True,color='r')\n",
    "axs[0].set(ylabel='频数',xlabel='对数评论量',title='对数评论量直方图',xlim=(-2,8))\n",
    "axs[1].set(ylabel='频数',xlabel='对数点赞数',title='对数点赞数直方图',xlim=(-2,10))\n",
    "plt.show()"
   ]
  },
  {
   "cell_type": "markdown",
   "id": "ced358b8",
   "metadata": {},
   "source": [
    "对数评论量和对数点赞数的直方图如上图所示。对数评论量集中分布在0-2，说明奥运视频的评论量不会太多，对数评论数目超过4的就很少了；对数点赞数的分布比较均匀，主要集中在2-6，说明大多数人倾向于给视频点赞。综上，大多数人可能会点赞，但不太可能会评论，所以导致了对数点赞数的平均数目要多于对数评论数。"
   ]
  },
  {
   "cell_type": "markdown",
   "id": "f74339b3",
   "metadata": {},
   "source": [
    "### 3. 将评论量对数进行分组，并将原数据中其他符号类型变量转化为因子变量"
   ]
  },
  {
   "cell_type": "code",
   "execution_count": 7,
   "id": "8bcdc936",
   "metadata": {},
   "outputs": [],
   "source": [
    "data['hot_or_not'] = data['com_sv_log'].apply(lambda x:'热议' if x>=2 else '非热议')"
   ]
  },
  {
   "cell_type": "code",
   "execution_count": 8,
   "id": "f320629d",
   "metadata": {},
   "outputs": [],
   "source": [
    "for col in data.select_dtypes(include=['object']).columns:\n",
    "    data[col]=pd.Categorical(data[col]).codes"
   ]
  },
  {
   "cell_type": "code",
   "execution_count": 9,
   "id": "060b52c5",
   "metadata": {},
   "outputs": [
    {
     "name": "stdout",
     "output_type": "stream",
     "text": [
      "<class 'pandas.core.frame.DataFrame'>\n",
      "RangeIndex: 579 entries, 0 to 578\n",
      "Data columns (total 11 columns):\n",
      " #   Column          Non-Null Count  Dtype  \n",
      "---  ------          --------------  -----  \n",
      " 0   hot_or_not      579 non-null    int8   \n",
      " 1   type_sv         579 non-null    int8   \n",
      " 2   nar_angle       579 non-null    int8   \n",
      " 3   zf_sv           579 non-null    int8   \n",
      " 4   length_log      579 non-null    float64\n",
      " 5   media_type      579 non-null    int8   \n",
      " 6   media_fans_log  579 non-null    float64\n",
      " 7   type_time_effe  579 non-null    int8   \n",
      " 8   month1          579 non-null    int64  \n",
      " 9   love_sv_log     579 non-null    float64\n",
      " 10  com_sv_log      579 non-null    float64\n",
      "dtypes: float64(4), int64(1), int8(6)\n",
      "memory usage: 26.1 KB\n"
     ]
    }
   ],
   "source": [
    "data.info()"
   ]
  },
  {
   "cell_type": "code",
   "execution_count": 10,
   "id": "23855fe5",
   "metadata": {},
   "outputs": [],
   "source": [
    "data['hot_or_not']=data['hot_or_not'].astype('float64')\n",
    "data['type_sv']=data['type_sv'].astype('category')\n",
    "data['nar_angle']=data['nar_angle'].astype('category')\n",
    "data['zf_sv']=data['zf_sv'].astype('category')\n",
    "data['media_type']=data['media_type'].astype('category')\n",
    "data['type_time_effe']=data['type_time_effe'].astype('category')\n",
    "data['month1']=data['month1'].astype('float64')\n"
   ]
  },
  {
   "cell_type": "code",
   "execution_count": 11,
   "id": "cd281958",
   "metadata": {},
   "outputs": [
    {
     "name": "stdout",
     "output_type": "stream",
     "text": [
      "<class 'pandas.core.frame.DataFrame'>\n",
      "RangeIndex: 579 entries, 0 to 578\n",
      "Data columns (total 11 columns):\n",
      " #   Column          Non-Null Count  Dtype   \n",
      "---  ------          --------------  -----   \n",
      " 0   hot_or_not      579 non-null    float64 \n",
      " 1   type_sv         579 non-null    category\n",
      " 2   nar_angle       579 non-null    category\n",
      " 3   zf_sv           579 non-null    category\n",
      " 4   length_log      579 non-null    float64 \n",
      " 5   media_type      579 non-null    category\n",
      " 6   media_fans_log  579 non-null    float64 \n",
      " 7   type_time_effe  579 non-null    category\n",
      " 8   month1          579 non-null    float64 \n",
      " 9   love_sv_log     579 non-null    float64 \n",
      " 10  com_sv_log      579 non-null    float64 \n",
      "dtypes: category(5), float64(6)\n",
      "memory usage: 30.9 KB\n"
     ]
    }
   ],
   "source": [
    "data.info()"
   ]
  },
  {
   "cell_type": "markdown",
   "id": "5cb829c9",
   "metadata": {},
   "source": [
    "### 4. 描述性分析，重点分析视频长度、话题类型、叙事角度、态度倾向这四个自变量对因变量的影响"
   ]
  },
  {
   "cell_type": "code",
   "execution_count": 12,
   "id": "0abb0f3e",
   "metadata": {},
   "outputs": [
    {
     "data": {
      "image/png": "[encoded data removed]",
      "text/plain": [
       "<Figure size 432x288 with 1 Axes>"
      ]
     },
     "metadata": {},
     "output_type": "display_data"
    }
   ],
   "source": [
    "# 视频长度分布箱线图\n",
    "sns.boxplot(x='hot_or_not', y='length_log', data=df)\n",
    "plt.title('Boxplot of Length by Hotness')\n",
    "plt.show()"
   ]
  },
  {
   "cell_type": "markdown",
   "id": "9fd88f6d",
   "metadata": {},
   "source": [
    "对于视频长度和是否热议的关系，其箱线图如上图所示。可见，非热议视频的视频长度的整体水平要高于热议视频，其最小值要低于热议视频，中位数，上下分位数和最大值均高于热议视频。其可能的解释是：长度太短或太长的视频均不受观众喜爱，讨论度低；热议的视频长度处于一个稳定的水平，不足或超过该水平都会导致视频热度下降。"
   ]
  },
  {
   "cell_type": "code",
   "execution_count": 14,
   "id": "4ed3c461",
   "metadata": {},
   "outputs": [
    {
     "data": {
      "image/png": "[encoded data removed]",
      "text/plain": [
       "<Figure size 786x360 with 1 Axes>"
      ]
     },
     "metadata": {},
     "output_type": "display_data"
    }
   ],
   "source": [
    "# 话题类型对热议视频的影响\n",
    "sns.catplot(x='type_sv', hue='hot_or_not', kind='count', data=df, height=5, aspect=2)\n",
    "plt.title('Count Plot of Hotness by Topic Type')\n",
    "plt.show()"
   ]
  },
  {
   "cell_type": "markdown",
   "id": "5436439f",
   "metadata": {},
   "source": [
    "  对于话题类型与是否热议的关系，其柱状图如上所示。可见：\n",
    "  1. 话题类型为传统话题的视频，热议和非热议的数目十分接近。并且其总体的数目远超于被动回应和非传统话题。可能的原因是人们大多喜欢传统类型的奥运视频，因此其视频数目也更多。对于传统话题，热议与非热议的数目参半，没有特别大的偏差也是合理的。总之，传统话题的奥运视频观看的人数最多，作品质量好坏参半，因此热议与否也参半。\n",
    "  2. 被动回应类型的视频数目较少，非热议占多数。可能是这种类型的视频不符合大众喜好，所以比较冷门。\n",
    "  3. 非传统话题类型的视频的数目少于传统话题，多于被动回应，非热议占多数。可能有一部分年轻人喜欢讨论非传统话题视频，所以其数目要多一些，但总体还是非热议者居多。"
   ]
  },
  {
   "cell_type": "code",
   "execution_count": 11,
   "id": "e35f170c",
   "metadata": {},
   "outputs": [
    {
     "data": {
      "image/png": "[encoded data removed]",
      "text/plain": [
       "<Figure size 786x360 with 1 Axes>"
      ]
     },
     "metadata": {},
     "output_type": "display_data"
    }
   ],
   "source": [
    "# 叙事角度对热议视频的影响\n",
    "sns.catplot(x='nar_angle', hue='hot_or_not', kind='count', data=df, height=5, aspect=2)\n",
    "plt.title('Count Plot of Hotness by Narrative Angle')\n",
    "plt.show()"
   ]
  },
  {
   "cell_type": "markdown",
   "id": "d0950af2",
   "metadata": {},
   "source": [
    "  叙事角度对热议与否的柱状图如上图所示。可见：\n",
    "  1. 品牌宣传角度的视频大多数为非热议，观众可能对奥运品牌并不感兴趣。\n",
    "  2. 突发事件角度的视频的数目要多于品牌宣传，大多数也为非热议。可能有一部分观众关注奥运赛场上的突发事件，但总体讨论度还是较低。\n",
    "  3. 要素解读角度的视频的数目最多，热议与非热议基本参半。可见大多数观众主要关注赛事的解读，这方面的视频关注度最高。\n",
    "  4. 明星团队角度的视频热议的居多，观众对奥运明星的关注热度很高。\n",
    "  5. 赛事周边角度的视频的数目较少，热议的居多。可能有喜欢运动的人关注赛事周边产品。\n"
   ]
  },
  {
   "cell_type": "code",
   "execution_count": 12,
   "id": "91e762aa",
   "metadata": {},
   "outputs": [
    {
     "data": {
      "image/png": "[encoded data removed]",
      "text/plain": [
       "<Figure size 786x360 with 1 Axes>"
      ]
     },
     "metadata": {},
     "output_type": "display_data"
    }
   ],
   "source": [
    "# 态度倾向对热议视频的影响\n",
    "sns.catplot(x='zf_sv', hue='hot_or_not', kind='count', data=df, height=5, aspect=2)\n",
    "plt.title('Count Plot of Hotness by Attitude')\n",
    "plt.show()"
   ]
  },
  {
   "cell_type": "markdown",
   "id": "a28b0c8b",
   "metadata": {},
   "source": [
    "  态度倾向和热议与否的柱状图如上所示。态度为中的视频，热议与非热议参半，符合中立原则；态度为负的视频，非热议的居多；态度为正的视频，热议的居多。态度倾向与热议的总体水平相一致。"
   ]
  },
  {
   "cell_type": "markdown",
   "id": "49032ce7",
   "metadata": {},
   "source": [
    "### 5. 将样本按照 8： 2 比例随机生成训练集和测试集（种子设置为 2023），针对视频是否为热议视频这个分类任务，在训练集上实现决策树、AdaBoost 以及随机森林模型，最后在测试集上测试三种模型的效果并进行对比，需作出 ROC 曲线图并计算 AUC 并写出模型比较的结果"
   ]
  },
  {
   "cell_type": "code",
   "execution_count": 12,
   "id": "24c31ad5",
   "metadata": {},
   "outputs": [],
   "source": [
    "# 数据处理\n",
    "X = data.drop(['hot_or_not'], axis=1)\n",
    "y = data['hot_or_not']\n",
    "\n",
    "# 划分训练集和测试集\n",
    "X_train, X_test, y_train, y_test = train_test_split(X, y, test_size=0.2, random_state=2023)\n"
   ]
  },
  {
   "cell_type": "code",
   "execution_count": 13,
   "id": "4a85e5c1",
   "metadata": {},
   "outputs": [
    {
     "data": {
      "text/plain": [
       "GridSearchCV(cv=StratifiedKFold(n_splits=5, random_state=2023, shuffle=True),\n",
       "             estimator=DecisionTreeClassifier(random_state=2023), n_jobs=-1,\n",
       "             param_grid={'criterion': ['gini', 'entropy'],\n",
       "                         'max_depth': [3, 5, 7, 10]},\n",
       "             scoring='roc_auc')"
      ]
     },
     "execution_count": 13,
     "metadata": {},
     "output_type": "execute_result"
    }
   ],
   "source": [
    "# 决策树模型\n",
    "tree_clf = DecisionTreeClassifier(random_state=2023)\n",
    "tree_params = {'criterion': ['gini', 'entropy'], 'max_depth': [3, 5, 7, 10]}\n",
    "cv = StratifiedKFold(n_splits=5, shuffle=True, random_state=2023)\n",
    "tree_grid = GridSearchCV(tree_clf, tree_params, cv=cv, n_jobs=-1, scoring='roc_auc')\n",
    "tree_grid.fit(X_train, y_train)"
   ]
  },
  {
   "cell_type": "code",
   "execution_count": 14,
   "id": "b1058ed4",
   "metadata": {},
   "outputs": [
    {
     "data": {
      "text/plain": [
       "GridSearchCV(cv=StratifiedKFold(n_splits=5, random_state=2023, shuffle=True),\n",
       "             estimator=AdaBoostClassifier(base_estimator=DecisionTreeClassifier(max_depth=2),\n",
       "                                          random_state=2023),\n",
       "             n_jobs=-1,\n",
       "             param_grid={'learning_rate': [0.1, 0.3, 0.5, 0.7, 1.0],\n",
       "                         'n_estimators': [50, 100, 200, 250, 300]},\n",
       "             scoring='roc_auc')"
      ]
     },
     "execution_count": 14,
     "metadata": {},
     "output_type": "execute_result"
    }
   ],
   "source": [
    "# AdaBoost模型\n",
    "ada_clf = AdaBoostClassifier(random_state=2023, base_estimator=DecisionTreeClassifier(max_depth=2))\n",
    "ada_params = {'n_estimators': [50, 100, 200,250,300], 'learning_rate': [0.1, 0.3, 0.5,0.7,1.0]}\n",
    "ada_grid = GridSearchCV(ada_clf, ada_params, cv=cv, n_jobs=-1, scoring='roc_auc')\n",
    "ada_grid.fit(X_train, y_train)"
   ]
  },
  {
   "cell_type": "code",
   "execution_count": 15,
   "id": "25fd0e14",
   "metadata": {},
   "outputs": [
    {
     "data": {
      "text/plain": [
       "GridSearchCV(cv=StratifiedKFold(n_splits=5, random_state=2023, shuffle=True),\n",
       "             estimator=RandomForestClassifier(random_state=2023), n_jobs=-1,\n",
       "             param_grid={'criterion': ['gini', 'entropy'],\n",
       "                         'max_depth': [3, 5, 7, 10],\n",
       "                         'n_estimators': [50, 100, 200]},\n",
       "             scoring='roc_auc')"
      ]
     },
     "execution_count": 15,
     "metadata": {},
     "output_type": "execute_result"
    }
   ],
   "source": [
    "# 随机森林模型\n",
    "rf_clf = RandomForestClassifier(random_state=2023)\n",
    "rf_params = {'n_estimators': [50, 100, 200], 'max_depth': [3, 5, 7, 10], 'criterion': ['gini', 'entropy']}\n",
    "rf_grid = GridSearchCV(rf_clf, rf_params, cv=cv, n_jobs=-1, scoring='roc_auc')\n",
    "rf_grid.fit(X_train, y_train)"
   ]
  },
  {
   "cell_type": "code",
   "execution_count": 16,
   "id": "45337b74",
   "metadata": {},
   "outputs": [
    {
     "data": {
      "image/png": "[encoded data removed]",
      "text/plain": [
       "<Figure size 720x432 with 1 Axes>"
      ]
     },
     "metadata": {},
     "output_type": "display_data"
    }
   ],
   "source": [
    "# ROC曲线和AUC值比较\n",
    "fig, ax = plt.subplots(figsize=(10, 6))\n",
    "\n",
    "tree_prob = tree_grid.predict_proba(X_test)[:,1]\n",
    "tree_fpr, tree_tpr, _ = roc_curve(y_test, tree_prob)\n",
    "tree_roc_auc = auc(tree_fpr, tree_tpr)\n",
    "\n",
    "ada_prob = ada_grid.predict_proba(X_test)[:,1]\n",
    "ada_fpr, ada_tpr, _ = roc_curve(y_test, ada_prob)\n",
    "ada_roc_auc = auc(ada_fpr, ada_tpr)\n",
    "\n",
    "rf_prob = rf_grid.predict_proba(X_test)[:,1]\n",
    "rf_fpr, rf_tpr, _ = roc_curve(y_test, rf_prob)\n",
    "rf_roc_auc = auc(rf_fpr, rf_tpr)\n",
    "\n",
    "ax.plot(tree_fpr, tree_tpr, lw=2, alpha=0.8, color='g', label='Decision Tree AUC = %0.2f' % (tree_roc_auc))\n",
    "ax.plot(ada_fpr, ada_tpr, lw=2, alpha=0.8, color='r', label='AdaBoost AUC = %0.2f' % (ada_roc_auc))\n",
    "ax.plot(rf_fpr, rf_tpr, lw=2, alpha=0.8, color='b', label='Random Forest AUC = %0.2f' % (rf_roc_auc))\n",
    "ax.plot([0, 1], [0, 1], linestyle='--', lw=2, color='black', label='Chance', alpha=.8)\n",
    "\n",
    "ax.set(xlim=[-0.05, 1.05], ylim=[-0.05, 1.05])\n",
    "ax.set_title('ROC Curve Comparison')\n",
    "ax.set_xlabel('False Positive Rate')\n",
    "ax.set_ylabel('True Positive Rate')\n",
    "ax.legend(loc=\"lower right\")\n",
    "plt.show()"
   ]
  },
  {
   "cell_type": "code",
   "execution_count": 17,
   "id": "ccddd92e",
   "metadata": {},
   "outputs": [
    {
     "name": "stdout",
     "output_type": "stream",
     "text": [
      "Decision Tree:\n",
      "Best Parameters: {'criterion': 'gini', 'max_depth': 3}\n",
      "AUC: 1.0\n",
      "Accuracy: 1.0\n",
      "Confusion Matrix:\n",
      "[[51  0]\n",
      " [ 0 65]]\n",
      "AdaBoost:\n",
      "Best Parameters: {'learning_rate': 0.1, 'n_estimators': 50}\n",
      "AUC: 1.0\n",
      "Accuracy: 1.0\n",
      "Confusion Matrix:\n",
      "[[51  0]\n",
      " [ 0 65]]\n",
      "Random Forest:\n",
      "Best Parameters: {'criterion': 'gini', 'max_depth': 3, 'n_estimators': 50}\n",
      "AUC: 1.0\n",
      "Accuracy: 1.0\n",
      "Confusion Matrix:\n",
      "[[51  0]\n",
      " [ 0 65]]\n"
     ]
    }
   ],
   "source": [
    "# 模型比较结果\n",
    "tree_acc = accuracy_score(y_test, tree_grid.predict(X_test))\n",
    "ada_acc = accuracy_score(y_test, ada_grid.predict(X_test))\n",
    "rf_acc = accuracy_score(y_test, rf_grid.predict(X_test))\n",
    "\n",
    "tree_cm = confusion_matrix(y_test, tree_grid.predict(X_test))\n",
    "ada_cm = confusion_matrix(y_test, ada_grid.predict(X_test))\n",
    "rf_cm = confusion_matrix(y_test, rf_grid.predict(X_test))\n",
    "\n",
    "# 决策树模型结果\n",
    "print('Decision Tree:')\n",
    "print('Best Parameters:', tree_grid.best_params_)\n",
    "print('AUC:', tree_roc_auc)\n",
    "print('Accuracy:', tree_acc)\n",
    "print('Confusion Matrix:')\n",
    "print(tree_cm)\n",
    "\n",
    "# AdaBoost模型结果\n",
    "print('AdaBoost:')\n",
    "print('Best Parameters:', ada_grid.best_params_)\n",
    "print('AUC:', ada_roc_auc)\n",
    "print('Accuracy:', ada_acc)\n",
    "print('Confusion Matrix:')\n",
    "print(ada_cm)\n",
    "\n",
    "# 随机森林模型结果\n",
    "print('Random Forest:')\n",
    "print('Best Parameters:', rf_grid.best_params_)\n",
    "print('AUC:', rf_roc_auc)\n",
    "print('Accuracy:', rf_acc)\n",
    "print('Confusion Matrix:')\n",
    "print(rf_cm)"
   ]
  },
  {
   "cell_type": "markdown",
   "id": "4042e14f",
   "metadata": {},
   "source": [
    "按题目要求，我使用决策树，Adaboost，随机森林三种模型对数据进行建模预测。经多次调试，决策树和Adaboost的准确率为100%，随机森林的准确率略低一些，为99%。可能是样本量比较少或者是其他原因，我得到的ROC曲线如上所示，我觉得存在着问题，等待改正。"
   ]
  },
  {
   "cell_type": "code",
   "execution_count": null,
   "id": "e1efdb70",
   "metadata": {},
   "outputs": [],
   "source": []
  }
 ],
 "metadata": {
  "kernelspec": {
   "display_name": "Python 3 (ipykernel)",
   "language": "python",
   "name": "python3"
  },
  "language_info": {
   "codemirror_mode": {
    "name": "ipython",
    "version": 3
   },
   "file_extension": ".py",
   "mimetype": "text/x-python",
   "name": "python",
   "nbconvert_exporter": "python",
   "pygments_lexer": "ipython3",
   "version": "3.9.12"
  }
 },
 "nbformat": 4,
 "nbformat_minor": 5
}
